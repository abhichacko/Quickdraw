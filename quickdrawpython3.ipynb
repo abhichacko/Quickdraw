{
 "cells": [
  {
   "cell_type": "code",
   "execution_count": 2,
   "metadata": {},
   "outputs": [
    {
     "name": "stderr",
     "output_type": "stream",
     "text": [
      "\r",
      "  0%|          | 0/8 [00:00<?, ?it/s]"
     ]
    },
    {
     "name": "stdout",
     "output_type": "stream",
     "text": [
      "/home/abhi/mainproject/quickdraw/data//cookie.npy\n"
     ]
    },
    {
     "name": "stderr",
     "output_type": "stream",
     "text": [
      "\r",
      " 12%|█▎        | 1/8 [00:00<00:06,  1.11it/s]"
     ]
    },
    {
     "name": "stdout",
     "output_type": "stream",
     "text": [
      "/home/abhi/mainproject/quickdraw/data//church.npy\n"
     ]
    },
    {
     "name": "stderr",
     "output_type": "stream",
     "text": [
      "\r",
      " 25%|██▌       | 2/8 [00:01<00:04,  1.40it/s]"
     ]
    },
    {
     "name": "stdout",
     "output_type": "stream",
     "text": [
      "/home/abhi/mainproject/quickdraw/data//cloud.npy\n"
     ]
    },
    {
     "name": "stderr",
     "output_type": "stream",
     "text": [
      "\r",
      " 38%|███▊      | 3/8 [00:02<00:04,  1.15it/s]"
     ]
    },
    {
     "name": "stdout",
     "output_type": "stream",
     "text": [
      "/home/abhi/mainproject/quickdraw/data//apple.npy\n"
     ]
    },
    {
     "name": "stderr",
     "output_type": "stream",
     "text": [
      "\r",
      " 50%|█████     | 4/8 [00:03<00:03,  1.01it/s]"
     ]
    },
    {
     "name": "stdout",
     "output_type": "stream",
     "text": [
      "/home/abhi/mainproject/quickdraw/data//star.npy\n"
     ]
    },
    {
     "name": "stderr",
     "output_type": "stream",
     "text": [
      "\r",
      " 62%|██████▎   | 5/8 [00:30<00:26,  8.81s/it]"
     ]
    },
    {
     "name": "stdout",
     "output_type": "stream",
     "text": [
      "/home/abhi/mainproject/quickdraw/data//car.npy\n"
     ]
    },
    {
     "name": "stderr",
     "output_type": "stream",
     "text": [
      "\r",
      " 75%|███████▌  | 6/8 [01:48<00:59, 29.54s/it]"
     ]
    },
    {
     "name": "stdout",
     "output_type": "stream",
     "text": [
      "/home/abhi/mainproject/quickdraw/data//spreadsheet.npy\n"
     ]
    },
    {
     "name": "stderr",
     "output_type": "stream",
     "text": [
      "\r",
      " 88%|████████▊ | 7/8 [03:26<00:49, 50.00s/it]"
     ]
    },
    {
     "name": "stdout",
     "output_type": "stream",
     "text": [
      "/home/abhi/mainproject/quickdraw/data//mountain.npy\n"
     ]
    },
    {
     "name": "stderr",
     "output_type": "stream",
     "text": [
      "100%|██████████| 8/8 [04:09<00:00, 47.80s/it]\n"
     ]
    }
   ],
   "source": [
    "# load data\n",
    "# abhi\n",
    "\n",
    "from matplotlib import pyplot as plt\n",
    "import numpy as np\n",
    "import os\n",
    "import pickle\n",
    "from tqdm import tqdm\n",
    "\n",
    "x = []\n",
    "x_load = []\n",
    "y = []\n",
    "y_load = []\n",
    "\n",
    "\n",
    "def load_data():\n",
    "    count = 0\n",
    "    for file in tqdm(os.listdir(\"/home/abhi/mainproject/quickdraw/data\")):\n",
    "        file = \"/home/abhi/mainproject/quickdraw/data//\" + file\n",
    "        print(file)\n",
    "        x = np.load(file)\n",
    "        x = x.astype('float32') / 255.\n",
    "        x = x[0:10000, :]\n",
    "        x_load.append(x)\n",
    "        y = [count for _ in range(10000)]\n",
    "        count += 1\n",
    "        y = np.array(y).astype('float32')\n",
    "        y = y.reshape(y.shape[0], 1)\n",
    "        y_load.append(y)\n",
    "\n",
    "    return x_load, y_load\n",
    "\n",
    "\n",
    "features, labels = load_data()\n",
    "\n",
    "features = np.array(features).astype('float32')\n",
    "labels = np.array(labels).astype('float32')\n",
    "\n",
    "# shape[0] number numpy files\n",
    "# shape[1] 10000\n",
    "features=features.reshape(features.shape[0]*features.shape[1],features.shape[2])\n",
    "# number of files * 10000 *784\n",
    "# print(features.shape)\n",
    "\n",
    "labels=labels.reshape(labels.shape[0]*labels.shape[1],labels.shape[2])\n",
    "# c=0\n",
    "# d=0\n",
    "# f=0\n",
    "# for i in labels:\n",
    "#     if (i ==2) and (c==0): \n",
    "#         print (\"two\")\n",
    "#         c=1\n",
    "\n",
    "#     if i==1 and d==0:\n",
    "#         print(\"one\")\n",
    "#         d=1\n",
    "#     if i==0 and f==0:\n",
    "#         print(\"zero\")\n",
    "#         f=1\n",
    "\n",
    "with open(\"features\", \"wb\") as f:\n",
    "    pickle.dump(features, f, protocol=2)\n",
    "with open(\"labels\", \"wb\") as f:\n",
    "    pickle.dump(labels, f, protocol=2)\n"
   ]
  },
  {
   "cell_type": "code",
   "execution_count": 2,
   "metadata": {},
   "outputs": [
    {
     "name": "stdout",
     "output_type": "stream",
     "text": [
      "(784,)\n",
      "(28, 28)\n"
     ]
    },
    {
     "data": {
      "image/png": "[encoded data removed]",
      "text/plain": [
       "<Figure size 432x288 with 1 Axes>"
      ]
     },
     "metadata": {
      "needs_background": "light"
     },
     "output_type": "display_data"
    }
   ],
   "source": [
    "# Data loading manupulation\n",
    "# image from dataset printing\n",
    "# abhi\n",
    "import numpy as np\n",
    "from matplotlib import pyplot as plt\n",
    "import os \n",
    "files = \"/home/abhi/mainproject/quickdraw/data/rainbow.npy\"\n",
    "x = np.load(files)\n",
    "print(x[0].shape)\n",
    "img=np.array(x[1000])\n",
    "img=np.reshape(img,(28,28))\n",
    "print(img.shape)\n",
    "# print(img)\n",
    "plt.imshow(img,cmap=\"gray\")\n",
    "plt.show()"
   ]
  },
  {
   "cell_type": "code",
   "execution_count": 3,
   "metadata": {},
   "outputs": [
    {
     "name": "stdout",
     "output_type": "stream",
     "text": [
      "shape (8000, 784)\n",
      "shape1 (8000, 28, 28, 1)\n",
      "_________________________________________________________________\n",
      "Layer (type)                 Output Shape              Param #   \n",
      "=================================================================\n",
      "conv2d_1 (Conv2D)            (None, 24, 24, 32)        832       \n",
      "_________________________________________________________________\n",
      "max_pooling2d_1 (MaxPooling2 (None, 12, 12, 32)        0         \n",
      "_________________________________________________________________\n",
      "conv2d_2 (Conv2D)            (None, 8, 8, 64)          51264     \n",
      "_________________________________________________________________\n",
      "max_pooling2d_2 (MaxPooling2 (None, 4, 4, 64)          0         \n",
      "_________________________________________________________________\n",
      "flatten_1 (Flatten)          (None, 1024)              0         \n",
      "_________________________________________________________________\n",
      "dense_1 (Dense)              (None, 512)               524800    \n",
      "_________________________________________________________________\n",
      "dropout_1 (Dropout)          (None, 512)               0         \n",
      "_________________________________________________________________\n",
      "dense_2 (Dense)              (None, 128)               65664     \n",
      "_________________________________________________________________\n",
      "dropout_2 (Dropout)          (None, 128)               0         \n",
      "_________________________________________________________________\n",
      "dense_3 (Dense)              (None, 8)                 1032      \n",
      "=================================================================\n",
      "Total params: 643,592\n",
      "Trainable params: 643,592\n",
      "Non-trainable params: 0\n",
      "_________________________________________________________________\n",
      "Train on 72000 samples, validate on 8000 samples\n",
      "Epoch 1/3\n",
      "72000/72000 [==============================] - 72s 995us/step - loss: 0.4498 - acc: 0.8615 - val_loss: 0.1976 - val_acc: 0.9397\n",
      "Epoch 2/3\n",
      "72000/72000 [==============================] - 67s 936us/step - loss: 0.2152 - acc: 0.9391 - val_loss: 0.1721 - val_acc: 0.9474\n",
      "Epoch 3/3\n",
      "72000/72000 [==============================] - 71s 984us/step - loss: 0.1746 - acc: 0.9505 - val_loss: 0.1493 - val_acc: 0.9567\n"
     ]
    },
    {
     "data": {
      "image/png": "[encoded data removed]",
      "text/plain": [
       "<Figure size 432x288 with 1 Axes>"
      ]
     },
     "metadata": {},
     "output_type": "display_data"
    }
   ],
   "source": [
    "# modelcreation\n",
    "# abhi\n",
    "\n",
    "import numpy as np\n",
    "from sklearn.model_selection import train_test_split\n",
    "from sklearn.utils import shuffle\n",
    "from keras.layers import Dense,Flatten, Conv2D\n",
    "from keras.layers import MaxPooling2D, Dropout\n",
    "from keras.utils import np_utils, print_summary\n",
    "import tensorflow as tf\n",
    "from keras.models import Sequential\n",
    "from keras.callbacks import ModelCheckpoint\n",
    "import pickle\n",
    "from keras.callbacks import TensorBoard\n",
    "from matplotlib import pyplot as plt\n",
    "\n",
    "\n",
    "def keras_model(image_x, image_y):\n",
    "    num_of_classes = 8\n",
    "    model = Sequential()\n",
    "    model.add(Conv2D(32, (5, 5), input_shape=(image_x,image_y,1), activation='relu'))\n",
    "    model.add(MaxPooling2D(pool_size=(2, 2), strides=(2, 2), padding='same'))\n",
    "    model.add(Conv2D(64, (5, 5), activation='relu'))\n",
    "    model.add(MaxPooling2D(pool_size=(2, 2), strides=(2, 2), padding='same'))\n",
    "\n",
    "    model.add(Flatten())\n",
    "    model.add(Dense(512, activation='relu'))\n",
    "    model.add(Dropout(0.6))\n",
    "    model.add(Dense(128, activation='relu'))\n",
    "    model.add(Dropout(0.6))\n",
    "    model.add(Dense(num_of_classes, activation='softmax'))\n",
    "\n",
    "    model.compile(loss='categorical_crossentropy', optimizer='adam', metrics=['accuracy'])\n",
    "    filepath = \"QuickDraw.h5\"\n",
    "    checkpoint = ModelCheckpoint(filepath, monitor='val_acc', verbose=1, save_best_only=True, mode='max')\n",
    "    callbacks_list = [checkpoint]\n",
    "\n",
    "    return model, callbacks_list\n",
    "\n",
    "\n",
    "def loadFromPickle():\n",
    "    with open(\"features\", \"rb\") as f:\n",
    "        features = np.array(pickle.load(f))\n",
    "    with open(\"labels\", \"rb\") as f:\n",
    "        labels = np.array(pickle.load(f))\n",
    "\n",
    "    return features, labels\n",
    "\n",
    "\n",
    "\n",
    "def prepress_labels(labels):\n",
    "    labels = np_utils.to_categorical(labels)\n",
    "    return labels\n",
    "\n",
    "\n",
    "def main():\n",
    "    features, labels = loadFromPickle()\n",
    "    features, labels = shuffle(features, labels)\n",
    "    labels=prepress_labels(labels)\n",
    "#     print (\"labels prepress\",labels[1])\n",
    "    train_x, test_x, train_y, test_y = train_test_split(features, labels, random_state=0,                                                     test_size=0.1)\n",
    "    print(\"shape\",test_x.shape)\n",
    "    train_x = train_x.reshape(train_x.shape[0], 28, 28, 1)\n",
    "    test_x = test_x.reshape(test_x.shape[0], 28, 28, 1)\n",
    "    print(\"shape1\",test_x.shape)\n",
    "#     print(\"train_x[1]\",train_x[0])\n",
    "    model, callbacks_list = keras_model(28,28)\n",
    "    print_summary(model)\n",
    "    H=model.fit(train_x, train_y, validation_data=(test_x, test_y), epochs=3, batch_size=64,\n",
    "              callbacks=[TensorBoard(log_dir=\"QuickDraw\")])\n",
    "    \n",
    "    model.save('QuickDraw.h5')\n",
    "    plt.style.use(\"ggplot\")\n",
    "    plt.figure()\n",
    "    N = 3\n",
    "    plt.plot(np.arange(0, N), H.history[\"loss\"], label=\"train_loss\")\n",
    "    plt.plot(np.arange(0, N), H.history[\"val_loss\"], label=\"val_loss\")\n",
    "    plt.plot(np.arange(0, N), H.history[\"acc\"], label=\"train_acc\")\n",
    "    plt.plot(np.arange(0, N), H.history[\"val_acc\"], label=\"val_acc\")\n",
    "    plt.title(\"Training Loss and Accuracy\")\n",
    "    plt.xlabel(\"Epoch #\")\n",
    "    plt.ylabel(\"Loss/Accuracy\")\n",
    "    plt.legend(loc=\"lower left\")\n",
    "    plt.savefig(\"plot\")\n",
    "\n",
    "\n",
    "main()\n"
   ]
  },
  {
   "cell_type": "code",
   "execution_count": null,
   "metadata": {},
   "outputs": [
    {
     "name": "stdout",
     "output_type": "stream",
     "text": [
      "WARNING:tensorflow:From /home/abhi/mainproject/lib/python3.5/site-packages/keras/backend/tensorflow_backend.py:3445: calling dropout (from tensorflow.python.ops.nn_ops) with keep_prob is deprecated and will be removed in a future version.\n",
      "Instructions for updating:\n",
      "Please use `rate` instead of `keep_prob`. Rate should be set to `rate = 1 - keep_prob`.\n",
      "WARNING:tensorflow:From /home/abhi/mainproject/lib/python3.5/site-packages/tensorflow/python/ops/math_ops.py:3066: to_int32 (from tensorflow.python.ops.math_ops) is deprecated and will be removed in a future version.\n",
      "Instructions for updating:\n",
      "Use tf.cast instead.\n",
      "before processs (480, 670)\n"
     ]
    },
    {
     "data": {
      "image/png": "[encoded data removed]",
      "text/plain": [
       "<Figure size 432x288 with 1 Axes>"
      ]
     },
     "metadata": {
      "needs_background": "light"
     },
     "output_type": "display_data"
    },
    {
     "name": "stdout",
     "output_type": "stream",
     "text": [
      "new image (1, 28, 28, 1)\n",
      "processed: (1, 28, 28, 1)\n",
      "prob [1. 0. 0. 0. 0. 0. 0. 0.]\n",
      "class 0\n",
      "the doodle is star\n"
     ]
    }
   ],
   "source": [
    "import cv2\n",
    "from keras.models import load_model\n",
    "import numpy as np\n",
    "from matplotlib import pyplot as plt\n",
    "import tkinter\n",
    "from tkinter import messagebox\n",
    "\n",
    "window=tkinter.Tk()\n",
    "width=400\n",
    "height=200\n",
    "screen_width=window.winfo_screenwidth()\n",
    "screen_height=window.winfo_screenheight()\n",
    "x_cord=(screen_width/2)-(width/2)\n",
    "y_cord=(screen_height/2)-(height/2)\n",
    "window.geometry(\"%dx%d+%d+%d\" % (width,height,x_cord,y_cord))\n",
    "window.withdraw()\n",
    "def keras_process_image(img):\n",
    "    image_x = 28\n",
    "    image_y = 28\n",
    "    img = cv2.resize(img, (image_x, image_y))\n",
    "    img = np.array(img, dtype=np.float32)\n",
    "    img = np.reshape(img, (-1, image_x, image_y, 1))\n",
    "    return img\n",
    "\n",
    "test1=cv2.imread(\"test/envelope.jpg\",0)\n",
    "\n",
    "model=load_model(\"QuickDraw.h5\")\n",
    "\n",
    "print(\"before processs\",test1.shape)\n",
    "plt.imshow(test1,cmap=\"gray\")\n",
    "plt.show()\n",
    "\n",
    "digit=cv2.bitwise_not(test1)\n",
    "processed = keras_process_image(digit)\n",
    "print(\"new image\",processed.shape)\n",
    "\n",
    "print(\"processed: \" + str(processed.shape))\n",
    "pred_probab = model.predict(processed)[0]\n",
    "print(\"prob\",pred_probab)\n",
    "pred_class = list(pred_probab).index(max(pred_probab))\n",
    "print(\"class\",pred_class)\n",
    "if pred_class ==0 :\n",
    "    print(\"the doodle is star\")\n",
    "    result=messagebox.askyesno(\"Prediction\",\"did u draw a envelope\")\n",
    "    \n",
    "elif pred_class ==1:\n",
    "    print(\"the doodle is Envelope\")\n",
    "elif pred_class==2:\n",
    "    print(\"the doodle is star\")\n",
    "window.mainloop()"
   ]
  },
  {
   "cell_type": "code",
   "execution_count": 1,
   "metadata": {},
   "outputs": [
    {
     "name": "stderr",
     "output_type": "stream",
     "text": [
      "Using TensorFlow backend.\n"
     ]
    },
    {
     "name": "stdout",
     "output_type": "stream",
     "text": [
      "WARNING:tensorflow:From /home/abhi/mainproject/lib/python3.5/site-packages/tensorflow/python/framework/op_def_library.py:263: colocate_with (from tensorflow.python.framework.ops) is deprecated and will be removed in a future version.\n",
      "Instructions for updating:\n",
      "Colocations handled automatically by placer.\n",
      "WARNING:tensorflow:From /home/abhi/mainproject/lib/python3.5/site-packages/keras/backend/tensorflow_backend.py:3445: calling dropout (from tensorflow.python.ops.nn_ops) with keep_prob is deprecated and will be removed in a future version.\n",
      "Instructions for updating:\n",
      "Please use `rate` instead of `keep_prob`. Rate should be set to `rate = 1 - keep_prob`.\n",
      "WARNING:tensorflow:From /home/abhi/mainproject/lib/python3.5/site-packages/tensorflow/python/ops/math_ops.py:3066: to_int32 (from tensorflow.python.ops.math_ops) is deprecated and will be removed in a future version.\n",
      "Instructions for updating:\n",
      "Use tf.cast instead.\n"
     ]
    },
    {
     "data": {
      "text/plain": [
       "<Figure size 640x480 with 1 Axes>"
      ]
     },
     "metadata": {},
     "output_type": "display_data"
    },
    {
     "name": "stdout",
     "output_type": "stream",
     "text": [
      "new image (1, 28, 28, 1)\n",
      "processed: (1, 28, 28, 1)\n",
      "prob [1. 0. 0. 0. 0. 0. 0. 0.]\n",
      "class 0\n",
      "the doodle is envelope\n"
     ]
    }
   ],
   "source": [
    "# drawing  using pen\n",
    "# abhi\n",
    "\n",
    "import numpy as np\n",
    "import cv2\n",
    "from collections import deque\n",
    "from matplotlib import pyplot as plt\n",
    "from keras.models import load_model\n",
    "import os\n",
    "\n",
    "model=load_model(\"QuickDraw.h5\")\n",
    "\n",
    "def keras_process_image(img,image_x = 28,image_y = 28):\n",
    "\n",
    "    img = cv2.resize(img, (image_x, image_y))\n",
    "    img = np.array(img, dtype=np.float32)\n",
    "    img = np.reshape(img, (-1, image_x, image_y, 1))\n",
    "    return img\n",
    "\n",
    "# Define the upper and lower boundaries for a color to be considered \"Blue\"\n",
    "blueLower = np.array([100, 60, 60])\n",
    "blueUpper = np.array([140, 255, 255])\n",
    "\n",
    "# Define a 5x5 kernel for erosion and dilation\n",
    "kernel = np.ones((5, 5), np.uint8)\n",
    "\n",
    "# Setup deques to store separate colors in separate arrays\n",
    "points = deque(maxlen=512)\n",
    "\n",
    "# Setup the Paint interface\n",
    "paintWindow = np.zeros((480,670,3)) + 255 #paint window\n",
    "\n",
    "# cv2.imshow(i,paintWindow)\n",
    "\n",
    "\n",
    "\n",
    "x=0\n",
    "# Load the video\n",
    "camera = cv2.VideoCapture(0)\n",
    "\n",
    "# Keep looping\n",
    "while True:\n",
    "    # Grab the current paintWindow\n",
    "    key = cv2.waitKey(1)\n",
    "    (grabbed, frame) = camera.read()\n",
    "    frame = cv2.flip(frame, 1)\n",
    "    hsv = cv2.cvtColor(frame, cv2.COLOR_BGR2HSV)\n",
    "    # Check to see if we have reached the end of the video\n",
    "    if not grabbed:\n",
    "        break\n",
    "\n",
    "    # Determine which pixels fall within the blue boundaries and then blur the binary image\n",
    "    blueMask = cv2.inRange(hsv, blueLower, blueUpper)\n",
    "    blueMask = cv2.erode(blueMask, kernel, iterations=2)\n",
    "    blueMask = cv2.morphologyEx(blueMask, cv2.MORPH_OPEN, kernel)\n",
    "    blueMask = cv2.dilate(blueMask, kernel, iterations=1)\n",
    "\n",
    "    # Find contours in the image\n",
    "    cnts, x  = cv2.findContours(blueMask.copy(), cv2.RETR_EXTERNAL,\n",
    "    \tcv2.CHAIN_APPROX_SIMPLE)\n",
    "    center = None\n",
    "\n",
    "    # Check to see if any contours were found\n",
    "    if len(cnts) > 0:\n",
    "    \t# Sort the contours and find the largest one -- we\n",
    "    \t# will assume this contour correspondes to the area of the bottle cap\n",
    "        cnt = sorted(cnts, key = cv2.contourArea, reverse = True)[0]\n",
    "        # Get the radius of the enclosing circle around the found contour\n",
    "        ((x, y), radius) = cv2.minEnclosingCircle(cnt)\n",
    "        # Draw the circle around the contour\n",
    "        cv2.circle(frame, (int(x), int(y)), int(radius), (0, 255, 255), 2)\n",
    "        # Get the moments to calculate the center of the contour (in this case Circle)\n",
    "        M = cv2.moments(cnt)\n",
    "        \n",
    "        #finding the center of the circle\n",
    "        center = (int(M['m10'] / M['m00']), int(M['m01'] / M['m00']))\n",
    "#     press b to pause drawing\n",
    "    if key & 0xFF != ord('b'):\n",
    "       \n",
    "        points.appendleft(center)\n",
    "    else:\n",
    "        points.appendleft(None)\n",
    "    # Append the next deque when no contours are detected (i.e., bottle cap reversed,blue not detected\n",
    "    for i in range(1,len(points)):\n",
    "        if points[i-1] is None or points[i] is None:\n",
    "            continue\n",
    "        cv2.line(frame, points[i - 1], points[i], (255, 0, 0), 2)\n",
    "        cv2.line(paintWindow, points[i - 1], points[i], (0, 0, 0), 13)\n",
    "                \n",
    "\n",
    "    # Show the frame and the paintWindow image\n",
    "    cv2.imshow(\"Tracking_frame\", frame)\n",
    "    cv2.imshow(\"PaintWindow\", paintWindow)\n",
    "    \n",
    "    if key & 0xFF == ord('r'):\n",
    "        points = deque(maxlen=512)\n",
    "        paintWindow[:,:,:] = 255\n",
    "    if key & 0xFF == ord('c'):\n",
    "#             plt.imshow(paintWindow)\n",
    "#             plt.show() \n",
    "            cv2.imwrite(str(x)+\".jpg\",paintWindow)\n",
    "    if key & 0xFF == ord('p'):\n",
    "#         plt.imshow(paintWindow)\n",
    "#         plt.show() \n",
    "        cv2.imwrite(str(x)+\".jpg\",paintWindow)\n",
    "        i=cv2.imread(str(x)+\".jpg\",0)\n",
    "#         i=cv2.cvtColor(i,cv2.COLOR_BGR2GRAY)\n",
    "        digit=cv2.bitwise_not(i)\n",
    "        plt.imshow(digit,cmap=\"gray\")\n",
    "        plt.show()\n",
    "        processed = keras_process_image(digit)\n",
    "        print(\"new image\",processed.shape)\n",
    "        \n",
    "        print(\"processed: \" + str(processed.shape))\n",
    "        pred_probab = model.predict(processed)[0]\n",
    "        print(\"prob\",pred_probab)\n",
    "        pred_class = list(pred_probab).index(max(pred_probab))\n",
    "        print(\"class\",pred_class)\n",
    "        if pred_class ==3 :\n",
    "            print(\"the doodle is star\")\n",
    "            cv2.putText(paintWindow, \"prediction : star\", (108, 33), cv2.FONT_HERSHEY_SIMPLEX, 1, (255, 0, 0), 3, cv2.LINE_AA)\n",
    "        elif pred_class ==0:\n",
    "            print(\"the doodle is envelope\")\n",
    "            cv2.putText(paintWindow, \"prediction : envelope\", (108, 33), cv2.FONT_HERSHEY_SIMPLEX, 1, (255, 0, 0), 3, cv2.LINE_AA)\n",
    "#         elif pred_class==2:\n",
    "#             print(\"the doodle is ENVELOPE\")\n",
    "#             cv2.putText(paintWindow, \"prediction : car\", (108, 33), cv2.FONT_HERSHEY_SIMPLEX, 1, (255, 0, 0), 3, cv2.LINE_AA)\n",
    "\n",
    "        os.remove(str(x)+\".jpg\")\n",
    "\t# If the 'q' key is pressed, stop the loop\n",
    "    if key == 27:\n",
    "        break\n",
    "\n",
    "# Cleanup the camera and close any open windows\n",
    "camera.release()\n",
    "cv2.destroyAllWindows()\n",
    "\n",
    "\n"
   ]
  },
  {
   "cell_type": "code",
   "execution_count": 1,
   "metadata": {
    "scrolled": false
   },
   "outputs": [
    {
     "name": "stderr",
     "output_type": "stream",
     "text": [
      "Using TensorFlow backend.\n"
     ]
    },
    {
     "name": "stdout",
     "output_type": "stream",
     "text": [
      "WARNING:tensorflow:From /home/abhi/mainproject/lib/python3.5/site-packages/tensorflow/python/framework/op_def_library.py:263: colocate_with (from tensorflow.python.framework.ops) is deprecated and will be removed in a future version.\n",
      "Instructions for updating:\n",
      "Colocations handled automatically by placer.\n",
      "WARNING:tensorflow:From /home/abhi/mainproject/lib/python3.5/site-packages/keras/backend/tensorflow_backend.py:3445: calling dropout (from tensorflow.python.ops.nn_ops) with keep_prob is deprecated and will be removed in a future version.\n",
      "Instructions for updating:\n",
      "Please use `rate` instead of `keep_prob`. Rate should be set to `rate = 1 - keep_prob`.\n",
      "WARNING:tensorflow:From /home/abhi/mainproject/lib/python3.5/site-packages/tensorflow/python/ops/math_ops.py:3066: to_int32 (from tensorflow.python.ops.math_ops) is deprecated and will be removed in a future version.\n",
      "Instructions for updating:\n",
      "Use tf.cast instead.\n"
     ]
    },
    {
     "data": {
      "text/plain": [
       "<Figure size 640x480 with 1 Axes>"
      ]
     },
     "metadata": {},
     "output_type": "display_data"
    },
    {
     "name": "stdout",
     "output_type": "stream",
     "text": [
      "new image (1, 28, 28, 1)\n",
      "processed: (1, 28, 28, 1)\n",
      "prob [0. 0. 1. 0. 0. 0. 0. 0.]\n",
      "class 2\n"
     ]
    },
    {
     "data": {
      "text/plain": [
       "<Figure size 640x480 with 1 Axes>"
      ]
     },
     "metadata": {},
     "output_type": "display_data"
    },
    {
     "name": "stdout",
     "output_type": "stream",
     "text": [
      "new image (1, 28, 28, 1)\n",
      "processed: (1, 28, 28, 1)\n",
      "prob [1. 0. 0. 0. 0. 0. 0. 0.]\n",
      "class 0\n"
     ]
    },
    {
     "data": {
      "text/plain": [
       "<Figure size 640x480 with 1 Axes>"
      ]
     },
     "metadata": {},
     "output_type": "display_data"
    },
    {
     "name": "stdout",
     "output_type": "stream",
     "text": [
      "new image (1, 28, 28, 1)\n",
      "processed: (1, 28, 28, 1)\n",
      "prob [0. 0. 0. 1. 0. 0. 0. 0.]\n",
      "class 3\n"
     ]
    },
    {
     "data": {
      "text/plain": [
       "<Figure size 640x480 with 1 Axes>"
      ]
     },
     "metadata": {},
     "output_type": "display_data"
    },
    {
     "name": "stdout",
     "output_type": "stream",
     "text": [
      "new image (1, 28, 28, 1)\n",
      "processed: (1, 28, 28, 1)\n",
      "prob [0. 1. 0. 0. 0. 0. 0. 0.]\n",
      "class 1\n"
     ]
    },
    {
     "data": {
      "text/plain": [
       "<Figure size 640x480 with 1 Axes>"
      ]
     },
     "metadata": {},
     "output_type": "display_data"
    },
    {
     "name": "stdout",
     "output_type": "stream",
     "text": [
      "new image (1, 28, 28, 1)\n",
      "processed: (1, 28, 28, 1)\n",
      "prob [0. 0. 0. 0. 1. 0. 0. 0.]\n",
      "class 4\n"
     ]
    },
    {
     "data": {
      "text/plain": [
       "<Figure size 640x480 with 1 Axes>"
      ]
     },
     "metadata": {},
     "output_type": "display_data"
    },
    {
     "name": "stdout",
     "output_type": "stream",
     "text": [
      "new image (1, 28, 28, 1)\n",
      "processed: (1, 28, 28, 1)\n",
      "prob [0. 0. 1. 0. 0. 0. 0. 0.]\n",
      "class 2\n"
     ]
    },
    {
     "data": {
      "text/plain": [
       "<Figure size 640x480 with 1 Axes>"
      ]
     },
     "metadata": {},
     "output_type": "display_data"
    },
    {
     "name": "stdout",
     "output_type": "stream",
     "text": [
      "new image (1, 28, 28, 1)\n",
      "processed: (1, 28, 28, 1)\n",
      "prob [0. 0. 0. 0. 0. 0. 0. 1.]\n",
      "class 7\n"
     ]
    },
    {
     "data": {
      "text/plain": [
       "<Figure size 640x480 with 1 Axes>"
      ]
     },
     "metadata": {},
     "output_type": "display_data"
    },
    {
     "name": "stdout",
     "output_type": "stream",
     "text": [
      "new image (1, 28, 28, 1)\n",
      "processed: (1, 28, 28, 1)\n",
      "prob [0. 0. 0. 0. 0. 0. 1. 0.]\n",
      "class 6\n"
     ]
    },
    {
     "data": {
      "text/plain": [
       "<Figure size 640x480 with 1 Axes>"
      ]
     },
     "metadata": {},
     "output_type": "display_data"
    },
    {
     "name": "stdout",
     "output_type": "stream",
     "text": [
      "new image (1, 28, 28, 1)\n",
      "processed: (1, 28, 28, 1)\n",
      "prob [0. 0. 0. 0. 0. 1. 0. 0.]\n",
      "class 5\n"
     ]
    },
    {
     "data": {
      "text/plain": [
       "<Figure size 640x480 with 1 Axes>"
      ]
     },
     "metadata": {},
     "output_type": "display_data"
    },
    {
     "name": "stdout",
     "output_type": "stream",
     "text": [
      "new image (1, 28, 28, 1)\n",
      "processed: (1, 28, 28, 1)\n",
      "prob [0. 0. 0. 1. 0. 0. 0. 0.]\n",
      "class 3\n"
     ]
    }
   ],
   "source": [
    "# drawing  using pen\n",
    "# abhi\n",
    "#for final\n",
    "\n",
    "import numpy as np\n",
    "import cv2\n",
    "from collections import deque\n",
    "from matplotlib import pyplot as plt\n",
    "from keras.models import load_model\n",
    "import os\n",
    "import tkinter\n",
    "from tkinter import messagebox\n",
    "from PIL import Image, ImageTk\n",
    "\n",
    "# for displaying prediction messagebox\n",
    "window=tkinter.Tk()\n",
    "window.title(\"QuickDraw Game\")\n",
    "window.geometry(\"800x600+320+50\")\n",
    "width=400\n",
    "height=200\n",
    "screen_width=window.winfo_screenwidth()\n",
    "screen_height=window.winfo_screenheight()\n",
    "x_cord=(screen_width/2)-(width/2)\n",
    "y_cord=(screen_height/2)-(height/2)\n",
    "\n",
    "\n",
    "\n",
    "message=[\"donut\",\"church\",\"cloud\",\"apple\",\"star\",\"car\",\"spreadsheet\",\"mountain\"]\n",
    "model=load_model(\"QuickDraw.h5\")\n",
    "\n",
    "def keras_process_image(img,image_x = 28,image_y = 28):\n",
    "\n",
    "    img = cv2.resize(img, (image_x, image_y))\n",
    "    img = np.array(img, dtype=np.float32)\n",
    "    img = np.reshape(img, (-1, image_x, image_y, 1))\n",
    "    return img\n",
    "\n",
    "# Define the upper and lower boundaries for a color to be considered \"Blue\"\n",
    "\n",
    "# cv2.imshow(i,paintWindow)\n",
    "\n",
    "\n",
    "\n",
    "x=0\n",
    "# Load the video\n",
    "def quickdraw():\n",
    "    \n",
    "    blueLower = np.array([100, 60, 60])\n",
    "    blueUpper = np.array([140, 255, 255])\n",
    "\n",
    "    # Define a 5x5 kernel for erosion and dilation\n",
    "    kernel = np.ones((5, 5), np.uint8)\n",
    "\n",
    "    # Setup deques to store separate colors in separate arrays\n",
    "    points = deque(maxlen=1024)\n",
    "\n",
    "    # Setup the Paint interface\n",
    "    paintWindow = np.zeros((480,670,3)) + 255 #paint window\n",
    "\n",
    "    drawingWindow = \"Drawing window\"\n",
    "    cv2.namedWindow(drawingWindow)        # Create a named window\n",
    "    cv2.moveWindow(drawingWindow, 30,45)  # Move it to (40,30)\n",
    "\n",
    "    frameWindow=\"Frame Window\"\n",
    "    cv2.namedWindow(frameWindow)\n",
    "    cv2.moveWindow(frameWindow,710,40)\n",
    "    \n",
    "    camera = cv2.VideoCapture(0)\n",
    "\n",
    "    # Keep looping\n",
    "    while True:\n",
    "        # Grab the current paintWindow\n",
    "        key = cv2.waitKey(1)\n",
    "        (grabbed, frame) = camera.read()\n",
    "        frame = cv2.flip(frame, 1)\n",
    "        hsv = cv2.cvtColor(frame, cv2.COLOR_BGR2HSV)\n",
    "        # Check to see if we have reached the end of the video\n",
    "        if not grabbed:\n",
    "            break\n",
    "\n",
    "        # Determine which pixels fall within the blue boundaries and then blur the binary image\n",
    "        blueMask = cv2.inRange(hsv, blueLower, blueUpper)\n",
    "        blueMask = cv2.erode(blueMask, kernel, iterations=2)\n",
    "        blueMask = cv2.morphologyEx(blueMask, cv2.MORPH_OPEN, kernel)\n",
    "        blueMask = cv2.dilate(blueMask, kernel, iterations=1)\n",
    "\n",
    "        # Find contours in the image\n",
    "        cnts, x  = cv2.findContours(blueMask.copy(), cv2.RETR_EXTERNAL,\n",
    "            cv2.CHAIN_APPROX_SIMPLE)\n",
    "        center = None\n",
    "\n",
    "        # Check to see if any contours were found\n",
    "        if len(cnts) > 0:\n",
    "            # Sort the contours and find the largest one -- we\n",
    "            # will assume this contour correspondes to the area of the bottle cap\n",
    "            cnt = sorted(cnts, key = cv2.contourArea, reverse = True)[0]\n",
    "            # Get the radius of the enclosing circle around the found contour\n",
    "            ((x, y), radius) = cv2.minEnclosingCircle(cnt)\n",
    "            # Draw the circle around the contour\n",
    "            cv2.circle(frame, (int(x), int(y)), int(radius), (0, 255, 255), 2)\n",
    "            # Get the moments to calculate the center of the contour (in this case Circle)\n",
    "            M = cv2.moments(cnt)\n",
    "\n",
    "            #finding the center of the circle\n",
    "            center = (int(M['m10'] / M['m00']), int(M['m01'] / M['m00']))\n",
    "    #     press b to pause drawing\n",
    "        if key & 0xFF != ord('b'):\n",
    "\n",
    "            points.appendleft(center)\n",
    "        else:\n",
    "            points.appendleft(None)\n",
    "        # Append the next deque when no contours are detected (i.e., bottle cap reversed,blue not detected\n",
    "        for i in range(1,len(points)):\n",
    "            if points[i-1] is None or points[i] is None:\n",
    "                continue\n",
    "            cv2.line(frame, points[i - 1], points[i], (255, 0, 0), 2)\n",
    "            cv2.line(paintWindow, points[i - 1], points[i], (0, 0, 0), 13)\n",
    "\n",
    "\n",
    "        # Show the frame and the paintWindow image\n",
    "        cv2.imshow(frameWindow, frame)\n",
    "        cv2.imshow(drawingWindow, paintWindow)\n",
    "\n",
    "        if key & 0xFF == ord('r'):\n",
    "            points = deque(maxlen=1024)\n",
    "            paintWindow[:,:,:] = 255\n",
    "        if key & 0xFF == ord('c'):\n",
    "    #             plt.imshow(paintWindow)\n",
    "    #             plt.show() \n",
    "                cv2.imwrite(str(x)+\".jpg\",paintWindow)\n",
    "        if key & 0xFF == ord('p'):\n",
    "    #         plt.imshow(paintWindow)\n",
    "    #         plt.show() \n",
    "            cv2.imwrite(str(x)+\".jpg\",paintWindow)\n",
    "            i=cv2.imread(str(x)+\".jpg\",0)\n",
    "    #         i=cv2.cvtColor(i,cv2.COLOR_BGR2GRAY)\n",
    "            digit=cv2.bitwise_not(i)\n",
    "            plt.imshow(digit,cmap=\"gray\")\n",
    "            plt.show()\n",
    "            processed = keras_process_image(digit)\n",
    "            print(\"new image\",processed.shape)\n",
    "\n",
    "            print(\"processed: \" + str(processed.shape))\n",
    "            pred_probab = model.predict(processed)[0]\n",
    "            print(\"prob\",pred_probab)\n",
    "            pred_class = list(pred_probab).index(max(pred_probab))\n",
    "            print(\"class\",pred_class)\n",
    "            os.remove(str(x)+\".jpg\")\n",
    "            msg=message[pred_class]\n",
    "            doodle=cv2.imread(\"doodle/\"+msg+\".jpg\")\n",
    "            window.withdraw()\n",
    "            result=messagebox.askyesno(\"Prediction\",\"did u draw a \"+msg)\n",
    "            if result:\n",
    "                paintWindow[:,:,:] = 255\n",
    "                points = deque(maxlen=1024)\n",
    "                paintWindow=doodle\n",
    "                cv2.imshow(drawingWindow,paintWindow)\n",
    "            \n",
    "                \n",
    "\n",
    "\n",
    "    \n",
    "\n",
    "        # If the 'q' key is pressed, stop the loop\n",
    "        if key == 27:\n",
    "            window.deiconify()\n",
    "            break\n",
    "\n",
    "\n",
    "    # Cleanup the camera and close any open windows\n",
    "    camera.release()\n",
    "    cv2.destroyAllWindows()\n",
    "button = tkinter.Button(window, text='Play', width=25, command=quickdraw)\n",
    "stop = tkinter.Button(window, text='Stop', width=25, command=window.destroy)\n",
    "\n",
    "button.pack()\n",
    "stop.pack()\n",
    "window.mainloop()\n",
    "\n",
    "\n"
   ]
  },
  {
   "cell_type": "code",
   "execution_count": 7,
   "metadata": {},
   "outputs": [],
   "source": [
    "from PIL import Image, ImageTk"
   ]
  },
  {
   "cell_type": "code",
   "execution_count": null,
   "metadata": {},
   "outputs": [],
   "source": []
  }
 ],
 "metadata": {
  "kernelspec": {
   "display_name": "Python 3",
   "language": "python",
   "name": "python3"
  },
  "language_info": {
   "codemirror_mode": {
    "name": "ipython",
    "version": 3
   },
   "file_extension": ".py",
   "mimetype": "text/x-python",
   "name": "python",
   "nbconvert_exporter": "python",
   "pygments_lexer": "ipython3",
   "version": "3.5.2"
  }
 },
 "nbformat": 4,
 "nbformat_minor": 2
}
