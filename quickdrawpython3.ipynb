{
 "cells": [
  {
   "cell_type": "code",
<<<<<<< HEAD
   "execution_count": null,
=======
   "execution_count": 1,
>>>>>>> 1324c3df38fa41d32dc79550abeb0c5a8e60e80d
   "metadata": {},
   "outputs": [
    {
     "name": "stderr",
     "output_type": "stream",
     "text": [
      "\r",
<<<<<<< HEAD
      "  0%|          | 0/8 [00:00<?, ?it/s]"
=======
      "  0%|          | 0/6 [00:00<?, ?it/s]"
>>>>>>> 1324c3df38fa41d32dc79550abeb0c5a8e60e80d
     ]
    },
    {
     "name": "stdout",
     "output_type": "stream",
     "text": [
      "/home/abhi/mainproject/quickdraw/data//envelope.npy\n"
     ]
    },
    {
     "name": "stderr",
     "output_type": "stream",
     "text": [
<<<<<<< HEAD
      " 25%|██▌       | 2/8 [00:01<00:04,  1.42it/s]"
=======
      "\r",
      " 17%|█▋        | 1/6 [00:02<00:10,  2.07s/it]"
     ]
    },
    {
     "name": "stdout",
     "output_type": "stream",
     "text": [
      "/home/abhi/mainproject/quickdraw/data//tie.npy\n"
     ]
    },
    {
     "name": "stderr",
     "output_type": "stream",
     "text": [
      "\r",
      " 33%|███▎      | 2/6 [00:03<00:07,  1.86s/it]"
>>>>>>> 1324c3df38fa41d32dc79550abeb0c5a8e60e80d
     ]
    },
    {
     "name": "stdout",
     "output_type": "stream",
     "text": [
<<<<<<< HEAD
      "/home/abhi/mainproject/quickdraw/data//cloud.npy\n",
=======
>>>>>>> 1324c3df38fa41d32dc79550abeb0c5a8e60e80d
      "/home/abhi/mainproject/quickdraw/data//apple.npy\n"
     ]
    },
    {
     "name": "stderr",
     "output_type": "stream",
     "text": [
      "\r",
<<<<<<< HEAD
      " 38%|███▊      | 3/8 [00:02<00:03,  1.25it/s]"
=======
      " 50%|█████     | 3/6 [00:04<00:05,  1.70s/it]"
>>>>>>> 1324c3df38fa41d32dc79550abeb0c5a8e60e80d
     ]
    },
    {
     "name": "stdout",
     "output_type": "stream",
     "text": [
      "/home/abhi/mainproject/quickdraw/data//star.npy\n"
     ]
    },
    {
     "name": "stderr",
     "output_type": "stream",
     "text": [
      "\r",
<<<<<<< HEAD
      " 50%|█████     | 4/8 [00:03<00:03,  1.21it/s]"
=======
      " 67%|██████▋   | 4/6 [00:05<00:03,  1.55s/it]"
     ]
    },
    {
     "name": "stdout",
     "output_type": "stream",
     "text": [
      "/home/abhi/mainproject/quickdraw/data//car.npy\n"
     ]
    },
    {
     "name": "stderr",
     "output_type": "stream",
     "text": [
      "\r",
      " 83%|████████▎ | 5/6 [00:07<00:01,  1.61s/it]"
>>>>>>> 1324c3df38fa41d32dc79550abeb0c5a8e60e80d
     ]
    },
    {
     "name": "stdout",
     "output_type": "stream",
     "text": [
<<<<<<< HEAD
      "/home/abhi/mainproject/quickdraw/data//hotairballoon.npy\n"
=======
      "/home/abhi/mainproject/quickdraw/data//home.npy\n"
     ]
    },
    {
     "name": "stderr",
     "output_type": "stream",
     "text": [
      "100%|██████████| 6/6 [00:09<00:00,  1.60s/it]\n"
>>>>>>> 1324c3df38fa41d32dc79550abeb0c5a8e60e80d
     ]
    }
   ],
   "source": [
    "# load data\n",
    "# abhi\n",
    "\n",
    "from matplotlib import pyplot as plt\n",
    "import numpy as np\n",
    "import os\n",
    "import pickle\n",
    "from tqdm import tqdm\n",
    "\n",
    "x = []\n",
    "x_load = []\n",
    "y = []\n",
    "y_load = []\n",
    "\n",
    "\n",
    "def load_data():\n",
    "    count = 0\n",
    "    for file in tqdm(os.listdir(\"/home/abhi/mainproject/quickdraw/data\")):\n",
    "        file = \"/home/abhi/mainproject/quickdraw/data//\" + file\n",
    "        print(file)\n",
    "        x = np.load(file)\n",
    "        x = x.astype('float32') / 255.\n",
    "        x = x[0:10000, :]\n",
    "        x_load.append(x)\n",
    "        y = [count for _ in range(10000)]\n",
    "        count += 1\n",
    "        y = np.array(y).astype('float32')\n",
    "        y = y.reshape(y.shape[0], 1)\n",
    "        y_load.append(y)\n",
    "\n",
    "    return x_load, y_load\n",
    "\n",
    "\n",
    "features, labels = load_data()\n",
    "\n",
    "features = np.array(features).astype('float32')\n",
    "labels = np.array(labels).astype('float32')\n",
    "\n",
    "# shape[0] number numpy files\n",
    "# shape[1] 10000\n",
    "features=features.reshape(features.shape[0]*features.shape[1],features.shape[2])\n",
    "# number of files * 10000 *784\n",
    "# print(features.shape)\n",
    "\n",
    "labels=labels.reshape(labels.shape[0]*labels.shape[1],labels.shape[2])\n",
    "# c=0\n",
    "# d=0\n",
    "# f=0\n",
    "# for i in labels:\n",
    "#     if (i ==2) and (c==0): \n",
    "#         print (\"two\")\n",
    "#         c=1\n",
    "\n",
    "#     if i==1 and d==0:\n",
    "#         print(\"one\")\n",
    "#         d=1\n",
    "#     if i==0 and f==0:\n",
    "#         print(\"zero\")\n",
    "#         f=1\n",
    "\n",
    "with open(\"features\", \"wb\") as f:\n",
    "    pickle.dump(features, f, protocol=2)\n",
    "with open(\"labels\", \"wb\") as f:\n",
    "    pickle.dump(labels, f, protocol=2)\n"
   ]
  },
  {
   "cell_type": "code",
<<<<<<< HEAD
   "execution_count": 7,
=======
   "execution_count": 2,
>>>>>>> 1324c3df38fa41d32dc79550abeb0c5a8e60e80d
   "metadata": {},
   "outputs": [
    {
     "name": "stdout",
     "output_type": "stream",
     "text": [
      "(784,)\n",
      "(28, 28)\n"
     ]
    },
    {
     "data": {
<<<<<<< HEAD
      "image/png": "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\n",
=======
      "image/png": "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\n",
>>>>>>> 1324c3df38fa41d32dc79550abeb0c5a8e60e80d
      "text/plain": [
       "<Figure size 432x288 with 1 Axes>"
      ]
     },
     "metadata": {
      "needs_background": "light"
     },
     "output_type": "display_data"
    }
   ],
   "source": [
    "# Data loading manupulation\n",
    "# image from dataset printing\n",
    "# abhi\n",
    "import numpy as np\n",
    "from matplotlib import pyplot as plt\n",
    "import os \n",
<<<<<<< HEAD
    "files = \"/home/abhi/mainproject/quickdraw/data/airplane.npy\"\n",
    "x = np.load(files)\n",
    "print(x[0].shape)\n",
    "img=np.array(x[1000])\n",
=======
    "files = \"/home/abhi/mainproject/quickdraw/data/home.npy\"\n",
    "x = np.load(files)\n",
    "print(x[0].shape)\n",
    "img=np.array(x[30000])\n",
>>>>>>> 1324c3df38fa41d32dc79550abeb0c5a8e60e80d
    "img=np.reshape(img,(28,28))\n",
    "print(img.shape)\n",
    "# print(img)\n",
    "plt.imshow(img,cmap=\"gray\")\n",
    "plt.show()"
   ]
  },
  {
   "cell_type": "code",
   "execution_count": 2,
   "metadata": {},
   "outputs": [
    {
     "name": "stderr",
     "output_type": "stream",
     "text": [
      "Using TensorFlow backend.\n"
     ]
    },
    {
     "name": "stdout",
     "output_type": "stream",
     "text": [
<<<<<<< HEAD
      "shape (8000, 784)\n",
      "shape1 (8000, 28, 28, 1)\n",
=======
      "shape (6000, 784)\n",
      "shape1 (6000, 28, 28, 1)\n",
>>>>>>> 1324c3df38fa41d32dc79550abeb0c5a8e60e80d
      "WARNING:tensorflow:From /home/abhi/mainproject/lib/python3.5/site-packages/tensorflow/python/framework/op_def_library.py:263: colocate_with (from tensorflow.python.framework.ops) is deprecated and will be removed in a future version.\n",
      "Instructions for updating:\n",
      "Colocations handled automatically by placer.\n",
      "WARNING:tensorflow:From /home/abhi/mainproject/lib/python3.5/site-packages/keras/backend/tensorflow_backend.py:3445: calling dropout (from tensorflow.python.ops.nn_ops) with keep_prob is deprecated and will be removed in a future version.\n",
      "Instructions for updating:\n",
      "Please use `rate` instead of `keep_prob`. Rate should be set to `rate = 1 - keep_prob`.\n",
      "_________________________________________________________________\n",
      "Layer (type)                 Output Shape              Param #   \n",
      "=================================================================\n",
      "conv2d_1 (Conv2D)            (None, 24, 24, 32)        832       \n",
      "_________________________________________________________________\n",
      "max_pooling2d_1 (MaxPooling2 (None, 12, 12, 32)        0         \n",
      "_________________________________________________________________\n",
      "conv2d_2 (Conv2D)            (None, 8, 8, 64)          51264     \n",
      "_________________________________________________________________\n",
      "max_pooling2d_2 (MaxPooling2 (None, 4, 4, 64)          0         \n",
      "_________________________________________________________________\n",
      "flatten_1 (Flatten)          (None, 1024)              0         \n",
      "_________________________________________________________________\n",
      "dense_1 (Dense)              (None, 512)               524800    \n",
      "_________________________________________________________________\n",
      "dropout_1 (Dropout)          (None, 512)               0         \n",
      "_________________________________________________________________\n",
      "dense_2 (Dense)              (None, 128)               65664     \n",
      "_________________________________________________________________\n",
      "dropout_2 (Dropout)          (None, 128)               0         \n",
      "_________________________________________________________________\n",
<<<<<<< HEAD
      "dense_3 (Dense)              (None, 8)                 1032      \n",
      "=================================================================\n",
      "Total params: 643,592\n",
      "Trainable params: 643,592\n",
=======
      "dense_3 (Dense)              (None, 6)                 774       \n",
      "=================================================================\n",
      "Total params: 643,334\n",
      "Trainable params: 643,334\n",
>>>>>>> 1324c3df38fa41d32dc79550abeb0c5a8e60e80d
      "Non-trainable params: 0\n",
      "_________________________________________________________________\n",
      "WARNING:tensorflow:From /home/abhi/mainproject/lib/python3.5/site-packages/tensorflow/python/ops/math_ops.py:3066: to_int32 (from tensorflow.python.ops.math_ops) is deprecated and will be removed in a future version.\n",
      "Instructions for updating:\n",
      "Use tf.cast instead.\n",
<<<<<<< HEAD
      "Train on 72000 samples, validate on 8000 samples\n",
      "Epoch 1/10\n",
      "72000/72000 [==============================] - 68s 950us/step - loss: 0.3368 - acc: 0.8926 - val_loss: 0.1275 - val_acc: 0.9606\n",
      "Epoch 2/10\n",
      "72000/72000 [==============================] - 68s 946us/step - loss: 0.1556 - acc: 0.9545 - val_loss: 0.1031 - val_acc: 0.9695\n",
      "Epoch 3/10\n",
      "72000/72000 [==============================] - 69s 955us/step - loss: 0.1236 - acc: 0.9639 - val_loss: 0.0966 - val_acc: 0.9725\n",
      "Epoch 4/10\n",
      "72000/72000 [==============================] - 68s 943us/step - loss: 0.1073 - acc: 0.9686 - val_loss: 0.0946 - val_acc: 0.9718\n",
      "Epoch 5/10\n",
      "72000/72000 [==============================] - 69s 954us/step - loss: 0.0932 - acc: 0.9724 - val_loss: 0.1010 - val_acc: 0.9702\n",
      "Epoch 6/10\n",
      "72000/72000 [==============================] - 68s 943us/step - loss: 0.0837 - acc: 0.9751 - val_loss: 0.0908 - val_acc: 0.9736\n",
      "Epoch 7/10\n",
      "72000/72000 [==============================] - 69s 954us/step - loss: 0.0765 - acc: 0.9775 - val_loss: 0.0919 - val_acc: 0.9735\n",
      "Epoch 8/10\n",
      "72000/72000 [==============================] - 69s 955us/step - loss: 0.0677 - acc: 0.9799 - val_loss: 0.0899 - val_acc: 0.9741\n",
      "Epoch 9/10\n",
      "72000/72000 [==============================] - 69s 957us/step - loss: 0.0639 - acc: 0.9808 - val_loss: 0.0910 - val_acc: 0.9756\n",
      "Epoch 10/10\n",
      "72000/72000 [==============================] - 70s 970us/step - loss: 0.0573 - acc: 0.9823 - val_loss: 0.1013 - val_acc: 0.9746\n"
=======
      "Train on 54000 samples, validate on 6000 samples\n",
      "Epoch 1/3\n",
      "54000/54000 [==============================] - 55s 1ms/step - loss: 0.2670 - acc: 0.9160 - val_loss: 0.1103 - val_acc: 0.9632\n",
      "Epoch 2/3\n",
      "54000/54000 [==============================] - 53s 975us/step - loss: 0.1184 - acc: 0.9661 - val_loss: 0.0969 - val_acc: 0.9687\n",
      "Epoch 3/3\n",
      "54000/54000 [==============================] - 53s 980us/step - loss: 0.0963 - acc: 0.9710 - val_loss: 0.0895 - val_acc: 0.9717\n"
>>>>>>> 1324c3df38fa41d32dc79550abeb0c5a8e60e80d
     ]
    }
   ],
   "source": [
    "# modelcreation\n",
    "# abhi\n",
    "\n",
    "import numpy as np\n",
    "from sklearn.model_selection import train_test_split\n",
    "from sklearn.utils import shuffle\n",
    "from keras.layers import Dense,Flatten, Conv2D\n",
    "from keras.layers import MaxPooling2D, Dropout\n",
    "from keras.utils import np_utils, print_summary\n",
    "import tensorflow as tf\n",
    "from keras.models import Sequential\n",
    "from keras.callbacks import ModelCheckpoint\n",
    "import pickle\n",
    "from keras.callbacks import TensorBoard\n",
    "\n",
    "def keras_model(image_x, image_y):\n",
<<<<<<< HEAD
    "    num_of_classes = 8\n",
=======
    "    num_of_classes = 6\n",
>>>>>>> 1324c3df38fa41d32dc79550abeb0c5a8e60e80d
    "    model = Sequential()\n",
    "    model.add(Conv2D(32, (5, 5), input_shape=(image_x,image_y,1), activation='relu'))\n",
    "    model.add(MaxPooling2D(pool_size=(2, 2), strides=(2, 2), padding='same'))\n",
    "    model.add(Conv2D(64, (5, 5), activation='relu'))\n",
    "    model.add(MaxPooling2D(pool_size=(2, 2), strides=(2, 2), padding='same'))\n",
    "\n",
    "    model.add(Flatten())\n",
    "    model.add(Dense(512, activation='relu'))\n",
    "    model.add(Dropout(0.6))\n",
    "    model.add(Dense(128, activation='relu'))\n",
    "    model.add(Dropout(0.6))\n",
    "    model.add(Dense(num_of_classes, activation='softmax'))\n",
    "\n",
    "    model.compile(loss='categorical_crossentropy', optimizer='adam', metrics=['accuracy'])\n",
    "    filepath = \"QuickDraw.h5\"\n",
    "    checkpoint = ModelCheckpoint(filepath, monitor='val_acc', verbose=1, save_best_only=True, mode='max')\n",
    "    callbacks_list = [checkpoint]\n",
    "\n",
    "    return model, callbacks_list\n",
    "\n",
    "\n",
    "def loadFromPickle():\n",
    "    with open(\"features\", \"rb\") as f:\n",
    "        features = np.array(pickle.load(f))\n",
    "    with open(\"labels\", \"rb\") as f:\n",
    "        labels = np.array(pickle.load(f))\n",
    "\n",
    "    return features, labels\n",
    "\n",
    "\n",
    "\n",
    "def prepress_labels(labels):\n",
    "    labels = np_utils.to_categorical(labels)\n",
    "    return labels\n",
    "\n",
    "\n",
    "def main():\n",
    "    features, labels = loadFromPickle()\n",
    "    features, labels = shuffle(features, labels)\n",
    "    labels=prepress_labels(labels)\n",
    "#     print (\"labels prepress\",labels[1])\n",
    "    train_x, test_x, train_y, test_y = train_test_split(features, labels, random_state=0,                                                     test_size=0.1)\n",
    "    print(\"shape\",test_x.shape)\n",
    "    train_x = train_x.reshape(train_x.shape[0], 28, 28, 1)\n",
    "    test_x = test_x.reshape(test_x.shape[0], 28, 28, 1)\n",
    "    print(\"shape1\",test_x.shape)\n",
    "#     print(\"train_x[1]\",train_x[0])\n",
    "    model, callbacks_list = keras_model(28,28)\n",
    "    print_summary(model)\n",
<<<<<<< HEAD
    "    model.fit(train_x, train_y, validation_data=(test_x, test_y), epochs=10, batch_size=64,\n",
=======
    "    model.fit(train_x, train_y, validation_data=(test_x, test_y), epochs=3, batch_size=64,\n",
>>>>>>> 1324c3df38fa41d32dc79550abeb0c5a8e60e80d
    "              callbacks=[TensorBoard(log_dir=\"QuickDraw\")])\n",
    "    model.save('QuickDraw.h5')\n",
    "\n",
    "\n",
    "main()\n"
   ]
  },
  {
   "cell_type": "code",
   "execution_count": null,
   "metadata": {},
   "outputs": [
    {
     "name": "stdout",
     "output_type": "stream",
     "text": [
      "before processs (480, 670)\n"
     ]
    },
    {
     "data": {
      "image/png": "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\n",
      "text/plain": [
       "<Figure size 432x288 with 1 Axes>"
      ]
     },
     "metadata": {
      "needs_background": "light"
     },
     "output_type": "display_data"
    },
    {
     "name": "stdout",
     "output_type": "stream",
     "text": [
      "new image (1, 28, 28, 1)\n",
      "processed: (1, 28, 28, 1)\n",
      "prob [1. 0. 0.]\n",
      "class 0\n",
      "the doodle is star\n"
     ]
    }
   ],
   "source": [
    "import cv2\n",
    "from keras.models import load_model\n",
    "import numpy as np\n",
    "from matplotlib import pyplot as plt\n",
    "import tkinter\n",
    "from tkinter import messagebox\n",
    "\n",
    "window=tkinter.Tk()\n",
    "width=400\n",
    "height=200\n",
    "screen_width=window.winfo_screenwidth()\n",
    "screen_height=window.winfo_screenheight()\n",
    "x_cord=(screen_width/2)-(width/2)\n",
    "y_cord=(screen_height/2)-(height/2)\n",
    "window.geometry(\"%dx%d+%d+%d\" % (width,height,x_cord,y_cord))\n",
    "window.withdraw()\n",
    "def keras_process_image(img):\n",
    "    image_x = 28\n",
    "    image_y = 28\n",
    "    img = cv2.resize(img, (image_x, image_y))\n",
    "    img = np.array(img, dtype=np.float32)\n",
    "    img = np.reshape(img, (-1, image_x, image_y, 1))\n",
    "    return img\n",
    "\n",
    "test1=cv2.imread(\"test/s.jpg\",0)\n",
    "\n",
    "model=load_model(\"QuickDraw.h5\")\n",
    "\n",
    "print(\"before processs\",test1.shape)\n",
    "plt.imshow(test1,cmap=\"gray\")\n",
    "plt.show()\n",
    "\n",
    "digit=cv2.bitwise_not(test1)\n",
    "processed = keras_process_image(digit)\n",
    "print(\"new image\",processed.shape)\n",
    "\n",
    "print(\"processed: \" + str(processed.shape))\n",
    "pred_probab = model.predict(processed)[0]\n",
    "print(\"prob\",pred_probab)\n",
    "pred_class = list(pred_probab).index(max(pred_probab))\n",
    "print(\"class\",pred_class)\n",
    "if pred_class ==0 :\n",
    "    print(\"the doodle is star\")\n",
    "    result=messagebox.askyesno(\"Prediction\",\"did u draw a star\")\n",
    "    \n",
    "elif pred_class ==1:\n",
    "    print(\"the doodle is Envelope\")\n",
    "elif pred_class==2:\n",
    "    print(\"the doodle is car\")\n",
    "window.mainloop()"
   ]
  },
  {
   "cell_type": "code",
   "execution_count": 1,
   "metadata": {},
   "outputs": [
    {
     "name": "stderr",
     "output_type": "stream",
     "text": [
      "Using TensorFlow backend.\n"
     ]
    },
    {
     "name": "stdout",
     "output_type": "stream",
     "text": [
      "WARNING:tensorflow:From /home/abhi/mainproject/lib/python3.5/site-packages/tensorflow/python/framework/op_def_library.py:263: colocate_with (from tensorflow.python.framework.ops) is deprecated and will be removed in a future version.\n",
      "Instructions for updating:\n",
      "Colocations handled automatically by placer.\n",
      "WARNING:tensorflow:From /home/abhi/mainproject/lib/python3.5/site-packages/keras/backend/tensorflow_backend.py:3445: calling dropout (from tensorflow.python.ops.nn_ops) with keep_prob is deprecated and will be removed in a future version.\n",
      "Instructions for updating:\n",
      "Please use `rate` instead of `keep_prob`. Rate should be set to `rate = 1 - keep_prob`.\n",
      "WARNING:tensorflow:From /home/abhi/mainproject/lib/python3.5/site-packages/tensorflow/python/ops/math_ops.py:3066: to_int32 (from tensorflow.python.ops.math_ops) is deprecated and will be removed in a future version.\n",
      "Instructions for updating:\n",
      "Use tf.cast instead.\n"
     ]
<<<<<<< HEAD
    },
    {
     "data": {
      "text/plain": [
       "<Figure size 640x480 with 1 Axes>"
      ]
     },
     "metadata": {},
     "output_type": "display_data"
    },
    {
     "name": "stdout",
     "output_type": "stream",
     "text": [
      "new image (1, 28, 28, 1)\n",
      "processed: (1, 28, 28, 1)\n",
      "prob [0.0000000e+00 0.0000000e+00 0.0000000e+00 6.4792978e-34 1.0000000e+00\n",
      " 0.0000000e+00 0.0000000e+00 0.0000000e+00]\n",
      "class 4\n"
     ]
    },
    {
     "data": {
      "text/plain": [
       "<Figure size 640x480 with 1 Axes>"
      ]
     },
     "metadata": {},
     "output_type": "display_data"
    },
    {
     "name": "stdout",
     "output_type": "stream",
     "text": [
      "new image (1, 28, 28, 1)\n",
      "processed: (1, 28, 28, 1)\n",
      "prob [0. 0. 0. 1. 0. 0. 0. 0.]\n",
      "class 3\n",
      "the doodle is MOON\n"
     ]
    },
    {
     "data": {
      "text/plain": [
       "<Figure size 640x480 with 1 Axes>"
      ]
     },
     "metadata": {},
     "output_type": "display_data"
    },
    {
     "name": "stdout",
     "output_type": "stream",
     "text": [
      "new image (1, 28, 28, 1)\n",
      "processed: (1, 28, 28, 1)\n",
      "prob [1. 0. 0. 0. 0. 0. 0. 0.]\n",
      "class 0\n",
      "the doodle is MOUNTAIN\n"
     ]
    },
    {
     "data": {
      "text/plain": [
       "<Figure size 640x480 with 1 Axes>"
      ]
     },
     "metadata": {},
     "output_type": "display_data"
    },
    {
     "name": "stdout",
     "output_type": "stream",
     "text": [
      "new image (1, 28, 28, 1)\n",
      "processed: (1, 28, 28, 1)\n",
      "prob [1. 0. 0. 0. 0. 0. 0. 0.]\n",
      "class 0\n",
      "the doodle is MOUNTAIN\n"
     ]
=======
>>>>>>> 1324c3df38fa41d32dc79550abeb0c5a8e60e80d
    }
   ],
   "source": [
    "# drawing  using pen\n",
    "# abhi\n",
    "\n",
    "import numpy as np\n",
    "import cv2\n",
    "from collections import deque\n",
    "from matplotlib import pyplot as plt\n",
    "from keras.models import load_model\n",
    "import os\n",
    "\n",
    "model=load_model(\"QuickDraw.h5\")\n",
    "\n",
    "def keras_process_image(img,image_x = 28,image_y = 28):\n",
    "\n",
    "    img = cv2.resize(img, (image_x, image_y))\n",
    "    img = np.array(img, dtype=np.float32)\n",
    "    img = np.reshape(img, (-1, image_x, image_y, 1))\n",
    "    return img\n",
    "\n",
    "# Define the upper and lower boundaries for a color to be considered \"Blue\"\n",
    "blueLower = np.array([100, 60, 60])\n",
    "blueUpper = np.array([140, 255, 255])\n",
    "\n",
    "# Define a 5x5 kernel for erosion and dilation\n",
    "kernel = np.ones((5, 5), np.uint8)\n",
    "\n",
    "# Setup deques to store separate colors in separate arrays\n",
    "points = deque(maxlen=512)\n",
    "\n",
    "# Setup the Paint interface\n",
    "paintWindow = np.zeros((480,670,3)) + 255 #paint window\n",
    "\n",
    "# cv2.imshow(i,paintWindow)\n",
    "\n",
    "\n",
    "\n",
    "x=0\n",
    "# Load the video\n",
    "camera = cv2.VideoCapture(0)\n",
    "\n",
    "# Keep looping\n",
    "while True:\n",
    "    # Grab the current paintWindow\n",
    "    key = cv2.waitKey(1)\n",
    "    (grabbed, frame) = camera.read()\n",
    "    frame = cv2.flip(frame, 1)\n",
    "    hsv = cv2.cvtColor(frame, cv2.COLOR_BGR2HSV)\n",
    "    # Check to see if we have reached the end of the video\n",
    "    if not grabbed:\n",
    "        break\n",
    "\n",
    "    # Determine which pixels fall within the blue boundaries and then blur the binary image\n",
    "    blueMask = cv2.inRange(hsv, blueLower, blueUpper)\n",
    "    blueMask = cv2.erode(blueMask, kernel, iterations=2)\n",
    "    blueMask = cv2.morphologyEx(blueMask, cv2.MORPH_OPEN, kernel)\n",
    "    blueMask = cv2.dilate(blueMask, kernel, iterations=1)\n",
    "\n",
    "    # Find contours in the image\n",
    "    cnts, x  = cv2.findContours(blueMask.copy(), cv2.RETR_EXTERNAL,\n",
    "    \tcv2.CHAIN_APPROX_SIMPLE)\n",
    "    center = None\n",
    "\n",
    "    # Check to see if any contours were found\n",
    "    if len(cnts) > 0:\n",
    "    \t# Sort the contours and find the largest one -- we\n",
    "    \t# will assume this contour correspondes to the area of the bottle cap\n",
    "        cnt = sorted(cnts, key = cv2.contourArea, reverse = True)[0]\n",
    "        # Get the radius of the enclosing circle around the found contour\n",
    "        ((x, y), radius) = cv2.minEnclosingCircle(cnt)\n",
    "        # Draw the circle around the contour\n",
    "        cv2.circle(frame, (int(x), int(y)), int(radius), (0, 255, 255), 2)\n",
    "        # Get the moments to calculate the center of the contour (in this case Circle)\n",
    "        M = cv2.moments(cnt)\n",
    "        \n",
    "        #finding the center of the circle\n",
    "        center = (int(M['m10'] / M['m00']), int(M['m01'] / M['m00']))\n",
    "#     press b to pause drawing\n",
    "    if key & 0xFF != ord('b'):\n",
    "       \n",
    "        points.appendleft(center)\n",
    "    else:\n",
    "        points.appendleft(None)\n",
    "    # Append the next deque when no contours are detected (i.e., bottle cap reversed,blue not detected\n",
    "    for i in range(1,len(points)):\n",
    "        if points[i-1] is None or points[i] is None:\n",
    "            continue\n",
    "        cv2.line(frame, points[i - 1], points[i], (255, 0, 0), 2)\n",
<<<<<<< HEAD
    "        cv2.line(paintWindow, points[i - 1], points[i], (0, 0, 0), 13)\n",
=======
    "        cv2.line(paintWindow, points[i - 1], points[i], (0, 0, 0), 10)\n",
>>>>>>> 1324c3df38fa41d32dc79550abeb0c5a8e60e80d
    "                \n",
    "\n",
    "    # Show the frame and the paintWindow image\n",
    "    cv2.imshow(\"Tracking_frame\", frame)\n",
    "    cv2.imshow(\"PaintWindow\", paintWindow)\n",
    "    \n",
    "    if key & 0xFF == ord('r'):\n",
    "        points = deque(maxlen=512)\n",
    "        paintWindow[:,:,:] = 255\n",
    "    if key & 0xFF == ord('c'):\n",
    "#             plt.imshow(paintWindow)\n",
    "#             plt.show() \n",
    "            cv2.imwrite(str(x)+\".jpg\",paintWindow)\n",
    "    if key & 0xFF == ord('p'):\n",
    "#         plt.imshow(paintWindow)\n",
    "#         plt.show() \n",
    "        cv2.imwrite(str(x)+\".jpg\",paintWindow)\n",
    "        i=cv2.imread(str(x)+\".jpg\",0)\n",
    "#         i=cv2.cvtColor(i,cv2.COLOR_BGR2GRAY)\n",
    "        digit=cv2.bitwise_not(i)\n",
    "        plt.imshow(digit,cmap=\"gray\")\n",
    "        plt.show()\n",
    "        processed = keras_process_image(digit)\n",
    "        print(\"new image\",processed.shape)\n",
    "        \n",
    "        print(\"processed: \" + str(processed.shape))\n",
    "        pred_probab = model.predict(processed)[0]\n",
    "        print(\"prob\",pred_probab)\n",
    "        pred_class = list(pred_probab).index(max(pred_probab))\n",
    "        print(\"class\",pred_class)\n",
<<<<<<< HEAD
    "        if pred_class ==3 :\n",
    "            print(\"the doodle is star\")\n",
    "            cv2.putText(paintWindow, \"prediction : star\", (108, 33), cv2.FONT_HERSHEY_SIMPLEX, 1, (255, 0, 0), 3, cv2.LINE_AA)\n",
    "        elif pred_class ==0:\n",
    "            print(\"the doodle is envelope\")\n",
=======
    "        if pred_class ==0 :\n",
    "            print(\"the doodle is MOON\")\n",
    "            cv2.putText(paintWindow, \"prediction : star\", (108, 33), cv2.FONT_HERSHEY_SIMPLEX, 1, (255, 0, 0), 3, cv2.LINE_AA)\n",
    "        elif pred_class ==1:\n",
    "            print(\"the doodle is MOUNTAIN\")\n",
>>>>>>> 1324c3df38fa41d32dc79550abeb0c5a8e60e80d
    "            cv2.putText(paintWindow, \"prediction : envelope\", (108, 33), cv2.FONT_HERSHEY_SIMPLEX, 1, (255, 0, 0), 3, cv2.LINE_AA)\n",
    "        elif pred_class==2:\n",
    "            print(\"the doodle is ENVELOPE\")\n",
    "            cv2.putText(paintWindow, \"prediction : car\", (108, 33), cv2.FONT_HERSHEY_SIMPLEX, 1, (255, 0, 0), 3, cv2.LINE_AA)\n",
    "\n",
    "        os.remove(str(x)+\".jpg\")\n",
    "\t# If the 'q' key is pressed, stop the loop\n",
    "    if key == 27:\n",
    "        break\n",
    "\n",
    "# Cleanup the camera and close any open windows\n",
    "camera.release()\n",
    "cv2.destroyAllWindows()\n",
    "\n",
    "\n"
   ]
  },
  {
   "cell_type": "code",
   "execution_count": null,
   "metadata": {},
   "outputs": [
    {
     "name": "stderr",
     "output_type": "stream",
     "text": [
      "Using TensorFlow backend.\n"
     ]
    },
    {
     "name": "stdout",
     "output_type": "stream",
     "text": [
      "WARNING:tensorflow:From /home/abhi/mainproject/lib/python3.5/site-packages/tensorflow/python/framework/op_def_library.py:263: colocate_with (from tensorflow.python.framework.ops) is deprecated and will be removed in a future version.\n",
      "Instructions for updating:\n",
      "Colocations handled automatically by placer.\n",
      "WARNING:tensorflow:From /home/abhi/mainproject/lib/python3.5/site-packages/keras/backend/tensorflow_backend.py:3445: calling dropout (from tensorflow.python.ops.nn_ops) with keep_prob is deprecated and will be removed in a future version.\n",
      "Instructions for updating:\n",
      "Please use `rate` instead of `keep_prob`. Rate should be set to `rate = 1 - keep_prob`.\n",
      "WARNING:tensorflow:From /home/abhi/mainproject/lib/python3.5/site-packages/tensorflow/python/ops/math_ops.py:3066: to_int32 (from tensorflow.python.ops.math_ops) is deprecated and will be removed in a future version.\n",
      "Instructions for updating:\n",
      "Use tf.cast instead.\n"
     ]
    },
    {
     "data": {
<<<<<<< HEAD
      "text/plain": [
       "<Figure size 640x480 with 1 Axes>"
      ]
     },
     "metadata": {},
     "output_type": "display_data"
    },
    {
     "name": "stdout",
     "output_type": "stream",
     "text": [
      "new image (1, 28, 28, 1)\n",
      "processed: (1, 28, 28, 1)\n",
      "prob [0. 1. 0. 0. 0. 0. 0. 0.]\n",
      "class 1\n"
     ]
    },
    {
     "data": {
      "text/plain": [
       "<Figure size 640x480 with 1 Axes>"
      ]
     },
     "metadata": {},
=======
      "image/png": "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\n",
      "text/plain": [
       "<Figure size 432x288 with 1 Axes>"
      ]
     },
     "metadata": {
      "needs_background": "light"
     },
>>>>>>> 1324c3df38fa41d32dc79550abeb0c5a8e60e80d
     "output_type": "display_data"
    },
    {
     "name": "stdout",
     "output_type": "stream",
     "text": [
      "new image (1, 28, 28, 1)\n",
      "processed: (1, 28, 28, 1)\n",
<<<<<<< HEAD
      "prob [0. 0. 0. 0. 0. 0. 1. 0.]\n",
      "class 6\n"
=======
      "prob [0. 0. 0. 0. 0. 1.]\n",
      "class 5\n"
>>>>>>> 1324c3df38fa41d32dc79550abeb0c5a8e60e80d
     ]
    },
    {
     "data": {
<<<<<<< HEAD
      "text/plain": [
       "<Figure size 640x480 with 1 Axes>"
      ]
     },
     "metadata": {},
     "output_type": "display_data"
    },
    {
     "name": "stdout",
     "output_type": "stream",
     "text": [
      "new image (1, 28, 28, 1)\n",
      "processed: (1, 28, 28, 1)\n",
      "prob [0.000000e+00 0.000000e+00 0.000000e+00 0.000000e+00 4.917064e-09\n",
      " 0.000000e+00 0.000000e+00 1.000000e+00]\n",
      "class 7\n"
     ]
    },
    {
     "data": {
      "text/plain": [
       "<Figure size 640x480 with 1 Axes>"
      ]
     },
     "metadata": {},
=======
      "image/png": "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\n",
      "text/plain": [
       "<Figure size 432x288 with 1 Axes>"
      ]
     },
     "metadata": {
      "needs_background": "light"
     },
>>>>>>> 1324c3df38fa41d32dc79550abeb0c5a8e60e80d
     "output_type": "display_data"
    },
    {
     "name": "stdout",
     "output_type": "stream",
     "text": [
      "new image (1, 28, 28, 1)\n",
      "processed: (1, 28, 28, 1)\n",
<<<<<<< HEAD
      "prob [0. 0. 0. 0. 0. 0. 1. 0.]\n",
      "class 6\n"
=======
      "prob [0.0000000e+00 0.0000000e+00 6.9235304e-36 1.0000000e+00 0.0000000e+00\n",
      " 3.1682333e-25]\n",
      "class 3\n"
>>>>>>> 1324c3df38fa41d32dc79550abeb0c5a8e60e80d
     ]
    },
    {
     "data": {
<<<<<<< HEAD
      "text/plain": [
       "<Figure size 640x480 with 1 Axes>"
      ]
     },
     "metadata": {},
     "output_type": "display_data"
    },
    {
     "name": "stdout",
     "output_type": "stream",
     "text": [
      "new image (1, 28, 28, 1)\n",
      "processed: (1, 28, 28, 1)\n",
      "prob [0. 1. 0. 0. 0. 0. 0. 0.]\n",
      "class 1\n"
     ]
    },
    {
     "data": {
      "text/plain": [
       "<Figure size 640x480 with 1 Axes>"
      ]
     },
     "metadata": {},
=======
      "image/png": "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\n",
      "text/plain": [
       "<Figure size 432x288 with 1 Axes>"
      ]
     },
     "metadata": {
      "needs_background": "light"
     },
>>>>>>> 1324c3df38fa41d32dc79550abeb0c5a8e60e80d
     "output_type": "display_data"
    },
    {
     "name": "stdout",
     "output_type": "stream",
     "text": [
      "new image (1, 28, 28, 1)\n",
      "processed: (1, 28, 28, 1)\n",
<<<<<<< HEAD
      "prob [0. 0. 1. 0. 0. 0. 0. 0.]\n",
      "class 2\n"
=======
      "prob [0. 0. 0. 0. 0. 1.]\n",
      "class 5\n"
>>>>>>> 1324c3df38fa41d32dc79550abeb0c5a8e60e80d
     ]
    },
    {
     "data": {
<<<<<<< HEAD
      "text/plain": [
       "<Figure size 640x480 with 1 Axes>"
      ]
     },
     "metadata": {},
     "output_type": "display_data"
    },
    {
     "name": "stdout",
     "output_type": "stream",
     "text": [
      "new image (1, 28, 28, 1)\n",
      "processed: (1, 28, 28, 1)\n",
      "prob [0. 0. 0. 1. 0. 0. 0. 0.]\n",
      "class 3\n"
     ]
    },
    {
     "data": {
      "text/plain": [
       "<Figure size 640x480 with 1 Axes>"
      ]
     },
     "metadata": {},
=======
      "image/png": "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\n",
      "text/plain": [
       "<Figure size 432x288 with 1 Axes>"
      ]
     },
     "metadata": {
      "needs_background": "light"
     },
>>>>>>> 1324c3df38fa41d32dc79550abeb0c5a8e60e80d
     "output_type": "display_data"
    },
    {
     "name": "stdout",
     "output_type": "stream",
     "text": [
      "new image (1, 28, 28, 1)\n",
      "processed: (1, 28, 28, 1)\n",
<<<<<<< HEAD
      "prob [0. 0. 0. 0. 0. 1. 0. 0.]\n",
=======
      "prob [0. 0. 0. 0. 0. 1.]\n",
>>>>>>> 1324c3df38fa41d32dc79550abeb0c5a8e60e80d
      "class 5\n"
     ]
    },
    {
     "data": {
<<<<<<< HEAD
      "text/plain": [
       "<Figure size 640x480 with 1 Axes>"
      ]
     },
     "metadata": {},
     "output_type": "display_data"
    },
    {
     "name": "stdout",
     "output_type": "stream",
     "text": [
      "new image (1, 28, 28, 1)\n",
      "processed: (1, 28, 28, 1)\n",
      "prob [1. 0. 0. 0. 0. 0. 0. 0.]\n",
      "class 0\n"
     ]
    },
    {
     "data": {
      "text/plain": [
       "<Figure size 640x480 with 1 Axes>"
      ]
     },
     "metadata": {},
     "output_type": "display_data"
    },
    {
     "name": "stdout",
     "output_type": "stream",
     "text": [
      "new image (1, 28, 28, 1)\n",
      "processed: (1, 28, 28, 1)\n",
      "prob [1. 0. 0. 0. 0. 0. 0. 0.]\n",
      "class 0\n"
     ]
    },
    {
     "data": {
      "text/plain": [
       "<Figure size 640x480 with 1 Axes>"
      ]
     },
     "metadata": {},
=======
      "image/png": "iVBORw0KGgoAAAANSUhEUgAAAVsAAAD8CAYAAADZoQcPAAAABHNCSVQICAgIfAhkiAAAAAlwSFlzAAALEgAACxIB0t1+/AAAADl0RVh0U29mdHdhcmUAbWF0cGxvdGxpYiB2ZXJzaW9uIDMuMC4zLCBodHRwOi8vbWF0cGxvdGxpYi5vcmcvnQurowAAIABJREFUeJztnX/INNd1379nZ3efN41Ty5aNEHrVSiYiwX+0tnhxZGJCsHGR3RD5DxMUAhZBRdCm4OBCKrfQEugfdf+IE9PiVERulZLGdp20EiLFVSVB809kv4p/6Udlv2lt9ArZb2NbStPwPruze/vHztnn7HnuzM7+mrkz+/3AwzM7O7t7Z+bO95577rnnSggBhBBCDsug7QIQQsgxQLElhJAGoNgSQkgDUGwJIaQBKLaEENIAFFtCCGmAg4itiNwtIi+JyBURefAQv0EIIV1C9h1nKyIZgG8CeD+AqwC+DOAXQwgv7PWHCCGkQxzCsn0XgCshhP8VQpgA+CyAew7wO4QQ0hmGB/jOWwC8bF5fBfBTVR8QEU5jI4R0lT8PIbx13UGHENtaiMgDAB5o6/cJIWRPfKfOQYcQ21cA3GpeXyz2rRBCeAjAQwAtW0JI/zmEz/bLAO4QkdtFZAzgXgCPHeB3CCGkM+zdsg0h5CLyDwF8EUAG4DMhhOf3/TuEENIl9h76tVUh6EYghHSXZ0MIl9YdxBlkhBDSABRbQghpAIotIYQ0AMWWEEIagGJLCCENQLElSSMiAIDBYLD8r9shhHN/g8Fg+Rn7eULahmJLkkZDE1U0QwjI8xxlIYuz2Qzz+XxFkAlJAYotSRZrlc7n8+Wf7p/P5wDOBFa37X9CUqG1RDSErEOt0vl8jhACRGRFbNV6zbJsxY2gx+p/QlKAli1pFBFZ/gHAaDRa7s+ybCmS9k9EVtwC+nm1ZlWAvcBOJpPlMfrd+j2ENA0tW9I4Vii1u6++2DLUulUrVoVTLVn7veqzteJNC5e0DZt50ighBMznc5ycnABYiO1sNlsZyPKiO5vNluIJrFrHWZYt//T79bt0n36H30dIk1BsyV6IiZj1qXquX7++FFXbtY9FEqg1CyyEdjg865DleX5OsAeDwTnBVhGO/SYhTcAaR/aCHbiy+4Azq1K7+NYf67GuAetuGI1GS5GdzWal4q6f1WPn8/nK8XmeYzAYYD6f08oljUKxJXvB+kXVT6riqnGxdvDLW6iW6XS6dA0Mh8Olf3Y2m63E21rUP6vbarnawTj1+Z6engJgeBhpFg6Qkb2hXXlrkapfVVHLs2zQyg54WabTKYDVcDD/2z4iwQ+O6f/hcLgyyOa/i5BDQMuWbIW1Sq1LQIVLu/TeErVCqMfbAS8rtGWuhjJix+vvWCvWloVCS5qCYktqYy1RnbXlJx7YwSw9xvpz7X8bWwvsN1LAWtZW3G0Z8jxfGUjTCAlCDgHFltRGRVQjACxW0Lx4ev+pf9+K86HKrJMn7O8Mh8OVcDL15RJyCOizJUtsN976MnVwymJDtOy2/74qmhygsm4KPTfv4vDlpT+X7BNatmSJ9XdakSkTRT9zS7fVV5tKLGuWZSvWrE/FWBaCRqEl+ySNp4EkhQ21KhtEslat+mr1z/pxU5gmaxsLH6MrIiv+ZxVhCi3ZNxRbsoIOWNlUhVXdfY2FBc4mLQDpJe325bGvbUJyPdfUyk+6D322R4xOLNAY1izLVkbnYykMdb8VIx+uFfvfNrGQMHs+FmuRqwuiyuVASB1o2R4hdlrrdDpdCo+KrmK70iq2NlSry4QQMB6PV6IUQggrWciAsyQ4zBxGdoVie2TYKbMqIl5U9bW14rIsw3g8bry8h8DmSbBWq/pqYxM07GtCtoFie2RYIbEuAzvd1QoOgHM5DFKJMtiWmF9WGxm1dPM8X14PvU60bMkudPupIbXwy8jYZWZsGkO13DT5i/73ll5fLDzboNgGxCbJmc/n564DIdtAsT0SrMUaS84CnJ/ppfRFXKvQqcOx2WzXr19fuQZMzUi2gWJ7JKjQWh+lD+nyUQaj0ag3A2JV2ExjPgLD7rNC3PdrQvYPxbZneKsUwMqAl822pa6DWMYtYJHW0C9Z00e85W5TMALnfbv2WsWuNyExKLY9w/sh7VIwdgqtTlxQfyS7xmfYgTJgdVBxNpudC5HTyA5CqmAN6Rmj0ah0vS0f4jUcDpfHc9WCBdbFYjOCqaDqlORYYh5CqqDY9ozpdHpuyqyKrbW+xuMxROSclUaw4mqx+6zA2hUnAA6akfVQbHuCzQ1b5kOMrZ7Qd3/spvhJHj7/rr9emg/CCjF9uCQGxbYnxHyJwOqKBVYo6DbYDNsrUEG2jZXtRbABIzHWiq2IfEZEronIc2bfm0XkCRH5VvH/TcV+EZFPicgVEfm6iNx5yMKTM8rEM7YsDNkMbai8D9fm7tUE6mWJ1AmpUyv+PYC73b4HATwZQrgDwJPFawD4AIA7ir8HAHx6P8UkVVQtDW5nP6WU0LuL2KiD2KCiJq3hYBmJsfbJCyH8DwA/cLvvAfBIsf0IgA+Z/b8bFvwJgBtE5OZ9FZYsUAHN83yZrcs/4DaO1qY7pPtgc3y6yCzLVnLgAmfuGo1LtpNB2MARYHuf7U0hhFeL7e8CuKnYvgXAy+a4q8U+siN2tFuzVelqCqPRaGlRqR9xOBzSwjoAel3t/dB7AQCTyQTAIirE55Qgx83OTW5Y1KiNRwRE5AERuSwil3ctwzFgH1i/NLhOHx0MBssVY2lNHQYrtOqvtcI7Ho+X98dmDiNk2yfye+oeKP5fK/a/AuBWc9zFYt85QggPhRAuhRAubVmG3mMfUp/PQB9kDbQHVkfJ6S44DD7MCzgfEubdCzZigY3g8bLtnX8MwH3F9n0AHjX7P1JEJdwF4HXjbiAb4pebsQsS2qB6ffj5IDePdd8Aq8lqbJJyADg5OaFL4YhZuwaZiPw+gJ8F8BYRuQrgnwP4lwA+LyL3A/gOgF8oDv8jAB8EcAXAXwH45QOU+Wiw61/ZARh1E+R5juFwiOFwSKFtCQ310oUvJ5PJSpgYcHYfY9Ei5HiQFAKwRaT9QiSK3p88z1fiPO1/0h52dQtl3RLuvG+949k67lCaQ4lhLSLrg9VwL7/KKx/cdrHTe+3Amb4HnJ9wUpZPIcuylWxjpF9QbBPBD4D5ZcNPT0+Xx/rgepIGNipkXZytzcpmP8/EQP2FYpsI1s9nlxWfzWaYzWY4OTlZCqv6/mgFpYcOWtqk7LHeh8bj+vfoe+8v9Ni3iM0zq34/DS3ysZz2eIVWUJr43oZN2aj3Wu+vuok0fMz6fofD4VGslHEsUGxbxCYtsflSrS/PWz5c5bWbqIVrey/2PSvCdhVj3uv+wD5Ly9iQLuCse2knL3hfIOkemgjIRy5YZrPZ0o/rrVzSfSi2LWIHuTSZzHg8BnBm3WocLXDWDSXdxU/vVTeBX2DSTl4h/YB3smHsgIl1I+haYB7/sFFsu42NMvHZwdTq1UFRv+oGhbfb8O41jD5kZaFeStny4qQf6Iwzu/LxZDJZ6e1YV4ImuCHdhWLbILoyq4qo9dfGlhMfDAYM7+opGnEyGo2W911dSMDZwGie5xgMBktfPukuFNsGmc1mmEwmKysnAOcXa7Sj0j7wnfQD22vRSSo2qZB1N5Q1xqRbUGwPTCygXR8o3y20Prky9wLpB34GmZ2SDayKsQ6Msi50G4rtgfEPiH1towts1AEtmOPCiqqd7GAns9g8un5JetINKLYHxIumfajUktHYWbtQIBN/Hyc2q5vPk2sTEOV5zsGyDkKxPSD2gbBTa61VogNmsUUbyXFhZxDaOuIbXzvb8Jhy5Nq4Yx3b6FI43PHcqRbQwQ0dUdaBDo2vtFMzCVGsu8DmyVA0PlvXOdNj9b0+os+NHVS0k0H0OqXsWulOs9BB/LLW1mLRVVq71DKT5vAzCf0aZ96H2/fpvT4aw4+FqOFCsT1StEL4GEm/ICAhHp3goHG4VkQ0VEyXSz+GNejUeo0tuAl0I2qnv3enZWzF97N/qpKReOpGJqTcopPtmM/nS0G199dbtHqs1im1Avu0pP3p6enyOljL3g4c2uuRIv24EwmirTBw5mPTyrGJMNoKVUXq/iqyPXZVZXVB6X6tY9aHqSs+2DrYNWJLBlmL1obJ6fupD5ilW7IOo6E5ftDC+t82aYHrHBsbSCH9QeuTFViNt7Xkeb6SVyNlS6+K2LptVnB9mFwXYDTCAfDTb4fD4dI60S6QTzJT9lDUWdhRf6fOgBut3+4xm81W7qtfucPWHWv12i521+67byz8Chdli5+m3Lh0o0lomdhqCYp/CGy3To87PT1dvpfn+cqqueusjzpuh6qFBT32N2N/GkFhA+r9NFLdF7sG+6CPFrrNUatcuHBh5bV1Bdl7YK+vWq4AVny0ZXXUitU2Zdbv2KSObYv9bv9c+IZlOp1GJw2lLLa0bCP4jPpa2bTi2y5OzGqwXT4RwcnJyYrVmWqX3y/TAywqtVrmdn+VteT3b7KWlo462xl1fUBnDE6n02Vdsqty2Blj1nrz+EauqucTu5/6uXXX1g/iXr9+HePx+KBia3t8NpLHZ0OzjYv35aYMLdsIalWcnJwsX+uosC5TY60KWynLKrhdpnqTaIQmsT5BndGm8cBKnSnF3lrWwZqYJR37rP3fJ2yoltal6XS6rC/WzVSFXpvRaITRaFQqgH7/JtfWDu4CZ3G/h3ZH2AE+u3KJj+axx3YFSaFSi0j7hShh0+ujFaDONEprMVv8vjoV/FB+udj3WmvKLtkd+6wet+/y+O881AwqH99ahVpZm9aZsmtog/Rt2JPH51Gwx1edTxneR1xmQOwDX9ftRCBtkG1ZEg3vejaEcGndQXQjRLAVfFMR2+RYL0a2ImkWf+97K/vNuhVwk4qa5zmyLEOe5ysz3qxlHnv4YyKxD/xDGRuJ33euAP3OTRqOTWcGzmYzjEajpXvJC2uVv9Rawt4FE3NV2dUhYlQ1ZIdAr6tO0rCuNmDRgE2nU4xGo+UAWZesWQst2wgxS6EuNi52U7+s9Qvrw2JDfZpGxdYSExIvqDGLZF/ofYlZebansE8LzK5ufGhsg6boOa0TSmVdw1zmqhCRZXL72ODTeDzeezJ7PTdtoMsaqtj1SAhatttiK/ymN1Vn7Wz6uZjrQK2UtiqXXZLHuzzWda+tf3CfwhcLd/Kv9+220Hn3h3LV2EEfb5Fuc+9FZDmw6ak6h7IJNIdqOPW71fVmc/lat5DOhrOJnLoIB8gixCqcDm4d6kbb77VWdZsZ+v1AlvcJVoXaqHjYmU8a2uRHlC06+BizoPzKBv739PP7xE6NXSe0de+Vvy7A6mwwH+2ibGJV+rXrYo2RdVPEYr/98YduNK1xoe+pAPdh5RJathGsiKi/zi4trZUi1uIn6sBvnbphYso631yZKOzbjbCJK8ivnFzFoSw03/tQEbeWom3IB4PBiohXlb1sQHcbfIMSs+bb7NUdAoptBNuaVrW2ZX6vfVbKvlBmBfuHW62sWJfWisihQ5BiZaxzP7XrHiv7aDRa9pAO5YeP1b3YaL7tCdgBtpi/3Xbf91GnfQ/F+2qtf7xPzxDdCBG0AvobbrvGdr/FDmyRM8oGmKw7Qq+ZzyFh36szUHWoELh1iJwl846VXUfbD91QlPnQvRvCzlCLTQe2WFfQLuXygh1zadholyYb1UNDsS0hFgVgp9oC50NitGKknsS4DepGVZTlK7Xfs84vu++Gbp9hdW354EVkZYKKD+Gzx3nLOMuyZYrDTXzi2jBqYia79p4VXV3JpKwx7gsU2xqUhRr518eQxJl0G+umibkHVGy9FVx35WdrZNiG0w4KejSGdhN3TRehKtTEVwA7pVDRwbPJZNLZwGvSb6yo2WWafFYtjWawoqsCXUUscqVsOZvBYLAM67JjIX3tFVJsa+IzEumSJd7Xpd0hrcBVgwq0gElTlMUh+xV97YCwn2BQFm3hxbRODLSNjtBIn0OHV7bN2qddRG4VkadF5AUReV5EPlrsf7OIPCEi3yr+v6nYLyLyKRG5IiJfF5E7D30STRCL61xXKXyXygZw+/cJOQRlfnLru7URAboPKJ/MoHVZ/1+/fn1tzLWK6mAwWMnidUzUMa1yAP8ohPB2AHcB+BUReTuABwE8GUK4A8CTxWsA+ACAO4q/BwB8eu+lbgE/cKDTGquwo686q0e/S0WXgksOia1/FrVifbfext3W9c9q/owq4yPLspWY9WPs1a094xDCqyGEPy22/y+AFwHcAuAeAI8Uhz0C4EPF9j0Afjcs+BMAN4jIzXsveYNoy2wrTJ3W2Y/2ep+UWhX7Tp5CCLB+qrRdt8vXVfXfrlvJVn+jrA7bKIM+xs5uwkbNi4jcBuCdAJ4BcFMI4dXire8CuKnYvgXAy+ZjV4t9/rseEJHLInJ5wzI3jlYOjb/1o6ceL7B2uqNfCBLYbBomIXWwDbqtp17ofC4P60rQul4mjnZGpf1N+7vWvWCT8aeYz/nQ1BZbEXkDgD8A8KshhL+w74XF1dyouQohPBRCuBRqZMtJkbIulibUsBMgrNgCZ6EuhOybqimuZeMOMeGzFq0d9PWf1/9VS/SQBbX6ryIywkJofy+E8IfF7u+JyM0hhFcLN8G1Yv8rAG41H79Y7OsNVS2zVmhNh2dn6Bxr94k0R1Ud20UItR7rEkdan2M+36qkNsdMnWgEAfAwgBdDCL9h3noMwH3F9n0AHjX7P1JEJdwF4HXjbugF2n2KVaZYfGKbmbvIcVEVFbDt9yl2kkKsTussMd0mq6xNHi4i7wHwxwC+AUCv4D/Bwm/7eQB/A8B3APxCCOEHhTj/awB3A/grAL8cQqj0y0piycPrEJvqqPsJaZuyKePsYR2EWsnDuVLDllBsSYpojyuWPFwjDNjT2ju1xPb4gt0I6TF+MNaiQkvagQGehPQIFVOb5tNmo6NF2x60bAnpET6mlm6tdKDYEtIjbJ6DsimxFOB2oNgS0jPsTC0llo+ZNAt9toT0iJOTEwDx9J19WKG2y7CpI6RH6PI1sSTepF0otoT0DDsttyoUjDQLxXZLqjIhEZIarJftQ7HdkrLVQBVaEqQNYqLKupgGFNstqQqtIaRtbFKYdYYBaQbegS2o8oNNJhMm+yCtYZfBUYEty+NBmoViuwUqpLEVFsbjcWnGJUKawOetXbf8OGkGiu2OxGIXKbSkLbwVyx5WOlBsd0TT2Nm1mNhlI22hKyrYZWpIGlBs94hNYcdKTtqE4wbpQbHdEbv6qM2yROuWNEHV5AWNSGBehDRgboQdsYNkWtFpUZCmsGvhxZYp1/2sk+3D5m5HrDXL+eikaWIZvpQQAsbjMYB4YhrSLLwDO2LdBjpAxopNmqRsiXJbJzmG0D50I+yICqvO0mF2fNI0VT0pfY+xtu1DE2xHrOsghMBKTRqlavBL1yErs3xJs1Bsd8RX5uFwyIX1SGPYmNoyOECWBhTbHYmFfdFnS5qCPanuQFUghJAGoNgSQkgDUGwJIaQBKLY7oqPBVTN5CDkkZZEGdr8mTCLtQbHdAz76gMmaSZNotIFv5G1YWCz3MmkWiu0eODk5QZ7nCCEsKzXFljSFNu6+zlkBZoRM+7BvsSMhBJyenmI0GgE4q9TstpGm0By2Ze8BbPxTgM0dIYQ0AMWWEEIagGJLCCENQLHdkVgiEPrHtkfDldQHnmXZudCmuklV9L7YJEEMyyNtQbHdkRDCudAvjvxuj08JOJvNlisO+GPWISLL6BAdRAohLAWcmbBIk6xVBRG5ICJfEpGvicjzIvLrxf7bReQZEbkiIp8TkXGx/6R4faV4/7bDnkL7jEajpTVLq3Y3YksLaVidJsO2caWxP/18nudRq1i/T4WXkCaoY4KdAnhvCOFvA3gHgLtF5C4AnwDwyRDCjwP4IYD7i+PvB/DDYv8ni+N6zXQ6XUkifgyoSGnS9Crs+3ZbRFbEziZgn06n5wS0rjUa62XYz9ntrmfN0mVvqqAFnwZrlSEs+Mvi5aj4CwDeC+ALxf5HAHyo2L6neI3i/fcJ73YvsCkkZ7PZcoqyWvPqZ42hojefz5fHWetSfapVM530N/dxHupr77plO5lMal2TYzECUqbWHRCRTES+CuAagCcA/BmA10II+mRcBXBLsX0LgJcBoHj/dQA3Rr7zARG5LCKXdzsF0gQqiMDqIoP6oGdZhul0Gp3M4V0rarVOJhPkeb7s1tvjYwKSZdneLNGYr72LaE+gCtsgkvaoJbYhhFkI4R0ALgJ4F4Cf3PWHQwgPhRAuhRAu7fpd5PD43A/6AF+/fn3pS7UDUpY8z5e+Viusw+FwKao2n0SZa0Kt4F2FwzYSXRchLf94PD4nuvP5HFmW0apNhI3mlIYQXhORpwG8G8ANIjIsrNeLAF4pDnsFwK0ArorIEMAbAXx/j2UmLRBbMltEVlwCdYhZrHXWyarrPvDlm81my6VjrOh03aL1TKfT6GBg133SfaJONMJbReSGYvtHALwfwIsAngbw4eKw+wA8Wmw/VrxG8f5ToW81+wixUQK73E4VPBUB6zLw1q0N0aprnV24cGFFuO3AZdetWNJt6li2NwN4REQyLMT58yGEx0XkBQCfFZF/AeArAB4ujn8YwH8QkSsAfgDg3gOUm7TAvpZqtyFXdqBtPB4vLdFt01Senp6e25fnOYbDIbvTpFUkBaNTRNovxI7EBnX6FIShgriP+mKzVNlBL2vB+u6vTc5ehh9AGwwGSx+xdSX06b5YYtenr+eaGM/WGXtiU78HYuFD0+m0hZIcFjvlNbaqMICVfL4+3jXmErDiqN8f8zPWEXn/OW0Ajy0GmqQJa9+OqPUErIbY1Ak27xq2iw+cWah2csJwOFyKXAgBo9GollVKSN+h2O6IDXtSK6oqmXNX0TAi9aX6GVnWv2qtWG2Iuj55gJBd6ZcitIQXkr6sQVYWBeC75dZlYDNrWWs2hRCkfQzupca6RsxGepB2odiSUnRQqa4LIM/zlRlNbbpSYkH+fcROYY5NalAotu1DsSWlxNIbKrHELsPhcCm4+vm26OMAZRllbivb8PWhp9V1KLakFBXaMgsx9v5oNErCotQy9H0Jb81FsS5HQt/GELoI78CesJZDX6yI2WxWmhQGOPOBegtW/bYpPOB9H5jTxsT2KGL0pU52Ga63vSfK8qX2GR/HqvgEMylYuoS0TfumR0+wonIsYgvEk52kEHlASGpQbPdALNSp74JblYDbJoKhVUvIAortHvAZpoD+iEzZeai/djKZnDt2OBz2Mqa1i/TdZ90lKLZka+zgmYqrrsKg+1IYJOszOqsvdp397EbSLnwSSCm6FE5ZzKrNEasPs1+HjKPgh0XFNBY14vN2kHah2JJS9AG1Amofarv6QWwlB9IMtkGz1z82lkDag2JLSolN//RZv/S/im7fJxF0BRVg+mzTgWJLSrFiage8vAjbsLc+ppbsEupS8EnS6bNtH4otWYv3Caov1y8/TtLACitdCOlAsd2RsqVI+mBJ6JpgPqpA91mLNhZvS5pHB8xiywqRduF0XVLKZDJZu2YXp+WmhTZ42jhqw8+eR/vQsiWV+AQ7Pr+tLgWkbgXNQkXaIZYsnEKbBhTbLaiy9PoWbqNWkZ8RZh/qwWCwXCo8lfOODeaxK03ahGK7BVUJZ/pkRVhfrXZHvV9WLdsUEoZb1G+p5UqlESDHC8V2z/Rxeqq1WP1It1q86mJIBV2gEkinASDHTf+UoSHKBoT6ZkH56biz2Wz5Z+fka2hYal11vyow44BJW3A0Y0uqkqxkWdYLa6osrM26Eux1SK2h8WUbDAYrWcoIaRKK7ZaISHRqqqYX7AvrLNU+nSshh4RuhC3Isqw0/jSE0Kvg/qr1xxjqRUh9KLZb4GNNLYPBoBcuBKA6ssL6Z1Pz0xKSIhTbLVChnUwm51ILpjQivyl+Sm6VhW7PM0WxzfN8JRVkioN3h4KunTRhH3BL1HrV5b77EPJlIw/WnU/q64zZhsKeS18GL6s4lkala3RfIVpG/bdAPyp53RwH9lxTbWhi7p5jEdoUG8BjJ82npCNYNwLQH7EFNntYU3WdrEui00d8XDQX3kwHiu2WhBAwHo+X63D1YXHDTR7Q2IrChJBy+KRsiU1bpxZU17uoNiE4u6GE7BeK7RboLCRr1fWhq2YHvda5BrSBSdWFQEhq1BZbEclE5Csi8njx+nYReUZErojI50RkXOw/KV5fKd6/7TBFb4/RaNRLyy+EsFyFIZbdy1IVa0yaYzQanZs+bbd5j9JhE8v2owBeNK8/AeCTIYQfB/BDAPcX++8H8MNi/yeL43qHr8h9911aK7YPVnxfmE6nK+4re580JLHvdbMr1LoLInIRwN8F8DvFawHwXgBfKA55BMCHiu17itco3n+f9PDptBU4z/Oj6E7zoU0Pf090oNammDyGutkF6j49vwng1wDoXbsRwGshBM3EchXALcX2LQBeBoDi/deL43uHxqTqKgV9hgNnaWIn1MR6Wrxf6bBWIUTk5wBcCyE8u88fFpEHROSyiFze5/ceAu8Xs/RNhMrCvvxy5qlRNbFEZ/mlWvZdsSsd+3PsU1KkrlNnuu5PA/h5EfkggAsA/jqA3wJwg4gMC+v1IoBXiuNfAXArgKsiMgTwRgDf918aQngIwEMAICJJK9V0Ol1OYa0S1eFwGE272BdStt5tV9nfIxUc28XuEyEE5HnOCQyJs/bpCSF8PIRwMYRwG4B7ATwVQvglAE8D+HBx2H0AHi22Hyteo3j/qdBxsy/LsuVaWx7bXeuz0HaFstUzdIWGvgktcJbQ3QutWru6ICdpl11MlX8M4GMicgULn+zDxf6HAdxY7P8YgAd3K2L72NHePj6sisbZxs5RQ8JSpszy1kTvm1h9Gkds/xSNRFkXWqUWtS+XRghURQrY2XzrfkvD8PS++ck18/mchkACSAoPUOpuBJucxV8vO023613UqmnH2kWdzWZJWknq4ikTJb9eWhk2K5jed7uwpX7efpfedy2D959qz2gwGCxFr06XvyqbnG0Y7b2xEQj01zbGsyGES+sOStcJlxjrLBCgH1bvuvNMUWhfwkOFAAAJnElEQVQBrIjOOguwCiu0s9kM0+l0+VpF169rZt+PJVTXATr1q9qyxKZ46751PnK/4rFdTZgLW6YHxbYGPlC8r1RZWtZiTHUQRv2WVeWrY03qn13c0gp17Dro79pjVDTLfP1+8Uz7XXXybMRyWczncwyHw87n6egjFNsa2Icl5RH5XaiT5UsFIgXXk0fLpULpsaKp1rnPbaGWqV/hQam6996FYcU3lk3NWsqewWCwIsKx85lMJsvl5PV79dxSbQyPnX4qB6mNt8iqUN9jig9z1XRi7z5Qv6ld0sj3XGJ+WY04EREMh8NzgugnGPjY39jgY52eUpZly3Seeh5ZliHLMpyeni6P61vMd99I0wFHGmGTJWJSFFiLdr3LrE+f5D0WnRATWODMPVFmhWriHh08tCP/eZ6fE91NZ3dpeW2ZVbhPTk6WA2PWYu+zu6urUGyPmG38eqm6EazQeuvbd9ljUQWKfnY4HC6t05hv1i/0qV16FVd1QagA2kkx9vrVuZ7WRVG2eKUfqKXgpgfdCDXRLrTHVnI7Uu9Hpb1VE2Nbf3Ce58s42HV/Oiru/YJ12cQas9s+XtXHmOrrWHD+pmUrEyIvlF409foMBoNlt92+p9tlImYHqexr3daoBGU0Gq2EpNl7oq4P30jYz1tBj1npJC1o2dbEDrz4gRV9CLT7aP2g9iH11kaZcG3qF63qPnv04farAses3DzPl+Jn/Z51fit2DTx6LWKxrZtik5mvK5+1MK0QWytUQ74OxXA4XP7GYDDAaDTCdDpd63fVc8yyDKPRaGVZJpI2FNsa2C5gVVJtuzyOHdn2QjadTivjVTcVW9ttXfc534XV7m+ZletHu+tYw3UffhuEr+cRa5TqoGJZd6aUbQzsbLGmREv9r3aiA3B27bIsizYcer1shEPsNUkPim1NvDBYrBjVeWBHo9HKaz/7aFPqiKz9LfvAxs5Jy2MtvVhDU1UeoPqaAeczUnmBLZskEMNaxvraCqietw/vsr8V216HtahVINe5Garus+1pWJdCVVazTctM2oFiWwMVGh0AsSKhXfhtA/7LutmHenjKfM/Aef+yf0/9juv8qtYvu0uomH7Ozrza5Pu0MfFRAvuKrFB3g56nFdyYKyPP89pxsHY2WJZlazPOkfSh2NbA+xQtZRZHXVFQQbAB9JsOlG3qchARTCaT6O9YK1u72PrA182LoN+xq6jZASD7nXptq8THNmIqcoq3uLcVMX9+VVa8Tjiw13WT70899I6sh2JbAzt6XWYZep9pXaFV9HurBpT2gfpp67gE7Ci5WvR1w8W2sURjZfVlqetasANgKnJ6vD/3fUQ/2O8oi8et+3s2QmGX8pG0oNjWwI8Qx6Zg+m5eLNbTWmPesmlqLvsmv+NnVW3y2XUCERvM8nGk3nr1EQRV+Ot7KMGKDRpW+cH9QJYmjYnFACt0H/QDiu0WWP+ltZrUavTxtirGfhbTMWNnQ1mhsVEfVoytT1Rft30N7aChdW3EyuUjHrxfW2kyIoI0C8V2C2w3Vn2aik/WYmNNbYjWsWZlUv+0d5fY6xTCWQ4CHz1QN7zL35dDYP3tdbANrrVsLZyM0F8otjug1q2lKtFIbGbRsVEmgLFg/ti+unG0KS7wSCE9bjhdlxBCGoBiSwghDUCxJYSQBqDYEkJIA1BsCSGkASi2hBDSABRbQghpAIotIYQ0AMWWEEIagGJLCCENQLElhJAGoNgSQkgDUGwJIaQBKLaEENIAqaRY/EsAL7VdiC14C4A/b7sQG8IyN0cXy80yb87frHNQKmL7UgjhUtuF2BQRudy1crPMzdHFcrPMh4NuBEIIaQCKLSGENEAqYvtQ2wXYki6Wm2Vuji6Wm2U+EHLM62ERQkhTpGLZEkJIr2ldbEXkbhF5SUSuiMiDbZdHEZHPiMg1EXnO7HuziDwhIt8q/r+p2C8i8qniHL4uIne2VOZbReRpEXlBRJ4XkY92pNwXRORLIvK1oty/Xuy/XUSeKcr3OREZF/tPitdXivdva6PcRVkyEfmKiDzehTKLyLdF5Bsi8lURuVzsS71+3CAiXxCR/ykiL4rIu1Mvc5QQQmt/ADIAfwbgbQDGAL4G4O1tlsmU7WcA3AngObPvXwF4sNh+EMAniu0PAvivAATAXQCeaanMNwO4s9j+MQDfBPD2DpRbALyh2B4BeKYoz+cB3Fvs/20Af7/Y/gcAfrvYvhfA51qsJx8D8B8BPF68TrrMAL4N4C1uX+r14xEAf6/YHgO4IfUyR8+j1R8H3g3gi+b1xwF8vO2LYspzmxPblwDcXGzfjEV8MAD8WwC/GDuu5fI/CuD9XSo3gL8G4E8B/BQWgepDX1cAfBHAu4vtYXGctFDWiwCeBPBeAI8XD3jqZY6JbbL1A8AbAfxvf61SLnPZX9tuhFsAvGxeXy32pcpNIYRXi+3vArip2E7uPIpu6juxsBKTL3fRHf8qgGsAnsCix/NaCCGPlG1Z7uL91wHc2GyJAQC/CeDXAMyL1zci/TIHAP9NRJ4VkQeKfSnXj9sB/B8A/65w1/yOiPwo0i5zlLbFtrOERbOZZCiHiLwBwB8A+NUQwl/Y91ItdwhhFkJ4BxbW4rsA/GTLRapERH4OwLUQwrNtl2VD3hNCuBPABwD8ioj8jH0zwfoxxMKd9+kQwjsB/D8s3AZLEixzlLbF9hUAt5rXF4t9qfI9EbkZAIr/14r9yZyHiIywENrfCyH8YbE7+XIrIYTXADyNRRf8BhHRKeW2bMtyF++/EcD3Gy7qTwP4eRH5NoDPYuFK+C2kXWaEEF4p/l8D8J+xaNhSrh9XAVwNITxTvP4CFuKbcpmjtC22XwZwRzGCO8Zi4OCxlstUxWMA7iu278PCJ6r7P1KMhN4F4HXTxWkMEREADwN4MYTwG+at1Mv9VhG5odj+ESz8zC9iIbofLg7z5dbz+TCApwrrpjFCCB8PIVwMIdyGRb19KoTwS0i4zCLyoyLyY7oN4O8AeA4J148QwncBvCwiP1Hseh+AF1IucyltO42xGD38JhY+un/adnlMuX4fwKsApli0rvdj4WN7EsC3APx3AG8ujhUA/6Y4h28AuNRSmd+DRXfq6wC+Wvx9sAPl/lsAvlKU+zkA/6zY/zYAXwJwBcB/AnBS7L9QvL5SvP+2luvKz+IsGiHZMhdl+1rx97w+bx2oH+8AcLmoH/8FwJtSL3PsjzPICCGkAdp2IxBCyFFAsSWEkAag2BJCSANQbAkhpAEotoQQ0gAUW0IIaQCKLSGENADFlhBCGuD/A0zrWjdcvXYPAAAAAElFTkSuQmCC\n",
      "text/plain": [
       "<Figure size 432x288 with 1 Axes>"
      ]
     },
     "metadata": {
      "needs_background": "light"
     },
>>>>>>> 1324c3df38fa41d32dc79550abeb0c5a8e60e80d
     "output_type": "display_data"
    },
    {
     "name": "stdout",
     "output_type": "stream",
     "text": [
      "new image (1, 28, 28, 1)\n",
      "processed: (1, 28, 28, 1)\n",
<<<<<<< HEAD
      "prob [0. 0. 0. 0. 0. 0. 0. 1.]\n",
      "class 7\n"
=======
      "prob [0. 0. 0. 0. 0. 1.]\n",
      "class 5\n"
>>>>>>> 1324c3df38fa41d32dc79550abeb0c5a8e60e80d
     ]
    },
    {
     "data": {
<<<<<<< HEAD
      "text/plain": [
       "<Figure size 640x480 with 1 Axes>"
      ]
     },
     "metadata": {},
     "output_type": "display_data"
    },
    {
     "name": "stdout",
     "output_type": "stream",
     "text": [
      "new image (1, 28, 28, 1)\n",
      "processed: (1, 28, 28, 1)\n",
      "prob [0. 0. 0. 0. 0. 0. 0. 1.]\n",
      "class 7\n"
     ]
    },
    {
     "data": {
      "text/plain": [
       "<Figure size 640x480 with 1 Axes>"
      ]
     },
     "metadata": {},
=======
      "image/png": "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\n",
      "text/plain": [
       "<Figure size 432x288 with 1 Axes>"
      ]
     },
     "metadata": {
      "needs_background": "light"
     },
>>>>>>> 1324c3df38fa41d32dc79550abeb0c5a8e60e80d
     "output_type": "display_data"
    },
    {
     "name": "stdout",
     "output_type": "stream",
     "text": [
      "new image (1, 28, 28, 1)\n",
      "processed: (1, 28, 28, 1)\n",
<<<<<<< HEAD
      "prob [0. 0. 0. 0. 1. 0. 0. 0.]\n",
      "class 4\n"
=======
      "prob [0. 0. 0. 0. 0. 1.]\n",
      "class 5\n"
>>>>>>> 1324c3df38fa41d32dc79550abeb0c5a8e60e80d
     ]
    }
   ],
   "source": [
    "# drawing  using pen\n",
    "# abhi\n",
    "#for final\n",
    "\n",
    "import numpy as np\n",
    "import cv2\n",
    "from collections import deque\n",
    "from matplotlib import pyplot as plt\n",
    "from keras.models import load_model\n",
    "import os\n",
    "import tkinter\n",
    "from tkinter import messagebox\n",
    "\n",
    "\n",
    "# for displaying prediction messagebox\n",
    "window=tkinter.Tk()\n",
    "width=400\n",
    "height=200\n",
    "screen_width=window.winfo_screenwidth()\n",
    "screen_height=window.winfo_screenheight()\n",
    "x_cord=(screen_width/2)-(width/2)\n",
    "y_cord=(screen_height/2)-(height/2)\n",
    "window.geometry(\"%dx%d+%d+%d\" % (width,height,x_cord,y_cord))\n",
    "window.withdraw()\n",
<<<<<<< HEAD
    "message=[\"envelope\",\"cloud\",\"apple\",\"star\",\"hotairballoon\",\"car\",\"smileyface\",\"grapes\"]\n",
=======
    "message=[\"envelope\",\"tie\",\"apple\",\"star\",\"car\",\"home\"]\n",
>>>>>>> 1324c3df38fa41d32dc79550abeb0c5a8e60e80d
    "model=load_model(\"QuickDraw.h5\")\n",
    "\n",
    "def keras_process_image(img,image_x = 28,image_y = 28):\n",
    "\n",
    "    img = cv2.resize(img, (image_x, image_y))\n",
    "    img = np.array(img, dtype=np.float32)\n",
    "    img = np.reshape(img, (-1, image_x, image_y, 1))\n",
    "    return img\n",
    "\n",
    "# Define the upper and lower boundaries for a color to be considered \"Blue\"\n",
    "blueLower = np.array([100, 60, 60])\n",
    "blueUpper = np.array([140, 255, 255])\n",
    "\n",
    "# Define a 5x5 kernel for erosion and dilation\n",
    "kernel = np.ones((5, 5), np.uint8)\n",
    "\n",
    "# Setup deques to store separate colors in separate arrays\n",
    "points = deque(maxlen=1024)\n",
    "\n",
    "# Setup the Paint interface\n",
    "paintWindow = np.zeros((480,670,3)) + 255 #paint window\n",
    "\n",
    "# cv2.imshow(i,paintWindow)\n",
    "\n",
    "\n",
    "\n",
    "x=0\n",
    "# Load the video\n",
    "camera = cv2.VideoCapture(0)\n",
    "\n",
    "# Keep looping\n",
    "while True:\n",
    "    # Grab the current paintWindow\n",
    "    key = cv2.waitKey(1)\n",
    "    (grabbed, frame) = camera.read()\n",
    "    frame = cv2.flip(frame, 1)\n",
    "    hsv = cv2.cvtColor(frame, cv2.COLOR_BGR2HSV)\n",
    "    # Check to see if we have reached the end of the video\n",
    "    if not grabbed:\n",
    "        break\n",
    "\n",
    "    # Determine which pixels fall within the blue boundaries and then blur the binary image\n",
    "    blueMask = cv2.inRange(hsv, blueLower, blueUpper)\n",
    "    blueMask = cv2.erode(blueMask, kernel, iterations=2)\n",
    "    blueMask = cv2.morphologyEx(blueMask, cv2.MORPH_OPEN, kernel)\n",
    "    blueMask = cv2.dilate(blueMask, kernel, iterations=1)\n",
    "\n",
    "    # Find contours in the image\n",
    "    cnts, x  = cv2.findContours(blueMask.copy(), cv2.RETR_EXTERNAL,\n",
    "    \tcv2.CHAIN_APPROX_SIMPLE)\n",
    "    center = None\n",
    "\n",
    "    # Check to see if any contours were found\n",
    "    if len(cnts) > 0:\n",
    "    \t# Sort the contours and find the largest one -- we\n",
    "    \t# will assume this contour correspondes to the area of the bottle cap\n",
    "        cnt = sorted(cnts, key = cv2.contourArea, reverse = True)[0]\n",
    "        # Get the radius of the enclosing circle around the found contour\n",
    "        ((x, y), radius) = cv2.minEnclosingCircle(cnt)\n",
    "        # Draw the circle around the contour\n",
    "        cv2.circle(frame, (int(x), int(y)), int(radius), (0, 255, 255), 2)\n",
    "        # Get the moments to calculate the center of the contour (in this case Circle)\n",
    "        M = cv2.moments(cnt)\n",
    "        \n",
    "        #finding the center of the circle\n",
    "        center = (int(M['m10'] / M['m00']), int(M['m01'] / M['m00']))\n",
    "#     press b to pause drawing\n",
    "    if key & 0xFF != ord('b'):\n",
    "       \n",
    "        points.appendleft(center)\n",
    "    else:\n",
    "        points.appendleft(None)\n",
    "    # Append the next deque when no contours are detected (i.e., bottle cap reversed,blue not detected\n",
    "    for i in range(1,len(points)):\n",
    "        if points[i-1] is None or points[i] is None:\n",
    "            continue\n",
    "        cv2.line(frame, points[i - 1], points[i], (255, 0, 0), 2)\n",
<<<<<<< HEAD
    "        cv2.line(paintWindow, points[i - 1], points[i], (0, 0, 0), 13)\n",
=======
    "        cv2.line(paintWindow, points[i - 1], points[i], (0, 0, 0), 10)\n",
>>>>>>> 1324c3df38fa41d32dc79550abeb0c5a8e60e80d
    "                \n",
    "\n",
    "    # Show the frame and the paintWindow image\n",
    "    cv2.imshow(\"Tracking_frame\", frame)\n",
    "    cv2.imshow(\"PaintWindow\", paintWindow)\n",
    "    \n",
    "    if key & 0xFF == ord('r'):\n",
    "        points = deque(maxlen=1024)\n",
    "        paintWindow[:,:,:] = 255\n",
    "    if key & 0xFF == ord('c'):\n",
    "#             plt.imshow(paintWindow)\n",
    "#             plt.show() \n",
    "            cv2.imwrite(str(x)+\".jpg\",paintWindow)\n",
    "    if key & 0xFF == ord('p'):\n",
    "#         plt.imshow(paintWindow)\n",
    "#         plt.show() \n",
    "        cv2.imwrite(str(x)+\".jpg\",paintWindow)\n",
    "        i=cv2.imread(str(x)+\".jpg\",0)\n",
    "#         i=cv2.cvtColor(i,cv2.COLOR_BGR2GRAY)\n",
    "        digit=cv2.bitwise_not(i)\n",
    "        plt.imshow(digit,cmap=\"gray\")\n",
    "        plt.show()\n",
    "        processed = keras_process_image(digit)\n",
    "        print(\"new image\",processed.shape)\n",
    "        \n",
    "        print(\"processed: \" + str(processed.shape))\n",
    "        pred_probab = model.predict(processed)[0]\n",
    "        print(\"prob\",pred_probab)\n",
    "        pred_class = list(pred_probab).index(max(pred_probab))\n",
    "        print(\"class\",pred_class)\n",
    "        os.remove(str(x)+\".jpg\")\n",
    "        msg=message[pred_class]\n",
    "        doodle=cv2.imread(\"doodle/\"+msg+\".jpg\")\n",
<<<<<<< HEAD
=======
    "        \n",
>>>>>>> 1324c3df38fa41d32dc79550abeb0c5a8e60e80d
    "        result=messagebox.askyesno(\"Prediction\",\"did u draw a \"+msg)\n",
    "        if result:\n",
    "            paintWindow[:,:,:] = 255\n",
    "            window.quit()\n",
    "            points = deque(maxlen=1024)\n",
    "            paintWindow=doodle\n",
    "            cv2.imshow(\"PaintWindow\",paintWindow)\n",
    "        else:\n",
    "            window.quit()\n",
    "            \n",
    "            \n",
    "#         if pred_class ==0 :\n",
    "#             print(\"the doodle is MOON\")\n",
    "#             cv2.putText(paintWindow, \"prediction : star\", (108, 33), cv2.FONT_HERSHEY_SIMPLEX, 1, (255, 0, 0), 3, cv2.LINE_AA)\n",
    "#         elif pred_class ==1:\n",
    "#             print(\"the doodle is MOUNTAIN\")\n",
    "#             cv2.putText(paintWindow, \"prediction : envelope\", (108, 33), cv2.FONT_HERSHEY_SIMPLEX, 1, (255, 0, 0), 3, cv2.LINE_AA)\n",
    "#         elif pred_class==2:\n",
    "#             print(\"the doodle is ENVELOPE\")\n",
    "#             cv2.putText(paintWindow, \"prediction : car\", (108, 33), cv2.FONT_HERSHEY_SIMPLEX, 1, (255, 0, 0), 3, cv2.LINE_AA)\n",
    "\n",
    "        \n",
    "\t# If the 'q' key is pressed, stop the loop\n",
    "    if key == 27:\n",
    "        break\n",
    "        \n",
    "\n",
    "# Cleanup the camera and close any open windows\n",
    "camera.release()\n",
    "cv2.destroyAllWindows()\n",
    "window.mainloop()\n",
    "\n",
    "\n"
   ]
  },
  {
   "cell_type": "code",
   "execution_count": null,
   "metadata": {},
   "outputs": [],
   "source": []
  },
  {
   "cell_type": "code",
   "execution_count": null,
   "metadata": {},
   "outputs": [],
   "source": []
  }
 ],
 "metadata": {
  "kernelspec": {
   "display_name": "Python 3",
   "language": "python",
   "name": "python3"
  },
  "language_info": {
   "codemirror_mode": {
    "name": "ipython",
    "version": 3
   },
   "file_extension": ".py",
   "mimetype": "text/x-python",
   "name": "python",
   "nbconvert_exporter": "python",
   "pygments_lexer": "ipython3",
   "version": "3.5.2"
  }
 },
 "nbformat": 4,
 "nbformat_minor": 2
}
